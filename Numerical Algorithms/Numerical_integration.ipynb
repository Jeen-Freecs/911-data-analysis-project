{
  "nbformat": 4,
  "nbformat_minor": 0,
  "metadata": {
    "colab": {
      "name": "Numerical integration.ipynb",
      "provenance": [],
      "collapsed_sections": [],
      "include_colab_link": true
    },
    "kernelspec": {
      "name": "python3",
      "display_name": "Python 3"
    }
  },
  "cells": [
    {
      "cell_type": "markdown",
      "metadata": {
        "id": "view-in-github",
        "colab_type": "text"
      },
      "source": [
        "<a href=\"https://colab.research.google.com/github/Jeen-Freecs/DS_Pet_Projects/blob/main/Numerical%20Algorithms/Numerical_integration.ipynb\" target=\"_parent\"><img src=\"https://colab.research.google.com/assets/colab-badge.svg\" alt=\"Open In Colab\"/></a>"
      ]
    },
    {
      "cell_type": "markdown",
      "metadata": {
        "id": "QYSwoniAJpvf"
      },
      "source": [
        "## Project: Numerical integration"
      ]
    },
    {
      "cell_type": "markdown",
      "metadata": {
        "id": "nk1OtiBur6p0"
      },
      "source": [
        "**Abstract**\n",
        "\n",
        "The main purpose of the assignment is to find the distance of parachutist travelled between the moments $t_1 = 3$ s and $t_2=9$ s using various methods for integration.It is also important to compare these methods for their computational performance.In this assignment we have used trapezoidal rule, Romberg integration, Gauss quadrature methods for calculation of the distance.Overall, it was analysed that Romberg integration and Gauss quadrature methods are more efficient algorithms than Trapezoidal Rule method in terms of computational cost and accuracy.\n",
        "\n",
        "\n"
      ]
    },
    {
      "cell_type": "markdown",
      "metadata": {
        "id": "BIETDEF3r4o8"
      },
      "source": [
        "**Introduction**\n",
        "\n",
        "The topic of the problem is mostly devoted to numerical integration schemes, where we are trying the find the area under the curve of a given function.To find this area, we are using various methods that we have mentioned above.The Research problem is mostly about assessing the performance of each method and to find the most efficient method which can be applied to the given problem.Examination of the research problem will be conducted through the succesful implementation of various algorithms and the overall analysis of their performance.Their performacne will be expressed in terms of Error and RunTime calculation."
      ]
    },
    {
      "cell_type": "markdown",
      "metadata": {
        "id": "YN9kQZ2dr9sk"
      },
      "source": [
        "**Methods**\n",
        "\n",
        "In order to investigate the research problem, we have started to write the algorithm for each method.The most simple algorithm from all three methods is the Trapezoidal rule, while other two methods have the more complicated structure.In Romberg method we use partially Trapezoidal rule and Richardson Extrapolation in order to have a better computational cost.With each step in this method computational cost is decreasing by the following formula:\n",
        "\n",
        " \n",
        "$$ O\\left(h_j^{2k+2}\\right). \\, $$\n",
        "\n",
        "In the Gauss Quadrature, the main concept is related to Gauss-Lengente Forumula which defines the weighting factors and function arguments by the method of Undetermined Coefficients.In order to find the weighting factors and function arguments we have use the scipy library, in particular scipy.special.roots_legendre function.\n",
        "\n",
        "After we have implemented all the algorithms, we started to analyze their performance by plotting the Runtime vs True Error graph.For each algorithm we have calculated the runtime with %%timeit function and true error by comparing to analytical solution.\n",
        "\n",
        "\n",
        "\n"
      ]
    },
    {
      "cell_type": "markdown",
      "metadata": {
        "id": "sKkm2rqrrjIf"
      },
      "source": [
        "**Main Body**"
      ]
    },
    {
      "cell_type": "markdown",
      "metadata": {
        "id": "PVC64v5Pr2Kg"
      },
      "source": [
        "A falling parachutist (still falling) has its velocity $v(t)$ given by: $$\\\\v(t)=\\frac{gm}{c}(1-e^{−(c/m)t})$$\n",
        "where $g = 9.8$ m/s$^2$. For a parachutist with a drag coefficient $c = 12$ kg/s and mass $m = 60$ kg, compute the distance $d$ that he travelled between the moments $t_1 = 3$ s and $t_2=9$ s."
      ]
    },
    {
      "cell_type": "code",
      "metadata": {
        "id": "2QCckETsM92m"
      },
      "source": [
        "#Importing libraries\n",
        "import numpy as np\n",
        "import matplotlib.pyplot as plt\n",
        "%matplotlib inline\n",
        "import seaborn as sns\n",
        "import math as math"
      ],
      "execution_count": null,
      "outputs": []
    },
    {
      "cell_type": "code",
      "metadata": {
        "id": "VyHuLJTWJnjw"
      },
      "source": [
        "#Main function\n",
        "def v(t):\n",
        "  return ((9.8*60)/12)*(1-np.exp(-(12/60)*t))\n"
      ],
      "execution_count": null,
      "outputs": []
    },
    {
      "cell_type": "markdown",
      "metadata": {
        "id": "bW88GZwMhoHD"
      },
      "source": [
        "**Task 1**"
      ]
    },
    {
      "cell_type": "markdown",
      "metadata": {
        "id": "yneSBOR0JsBa"
      },
      "source": [
        "1.  Write your Python code to perform the numerical integration using a trapezoidal rule."
      ]
    },
    {
      "cell_type": "markdown",
      "metadata": {
        "id": "W87iKP7ZZckG"
      },
      "source": [
        "Trapezoidal rule\n",
        "\n",
        "Trapezoidal rule approximates the behaviour of a function by a straight line and Integral is considered to be area under the line.Here we are using simple mathematical operation and while loop."
      ]
    },
    {
      "cell_type": "code",
      "metadata": {
        "colab": {
          "base_uri": "https://localhost:8080/"
        },
        "id": "7_wXaCf9NjV5",
        "outputId": "f441170d-4d4c-4066-c1ec-b6024147e97c"
      },
      "source": [
        "b = 9\n",
        "a = 3\n",
        "n = int(input('Enter the number of segments: '))\n",
        "h = (b - a)/n\n",
        "sum = v(a)+ v(b)\n",
        "\n",
        "i = 1\n",
        "while i < n: \n",
        "  temp = a + i * h\n",
        "  sum += v(temp) * 2\n",
        "  i += 1\n",
        "\n",
        "trapezoid = (h*sum)/2\n",
        "\n",
        "print(trapezoid)"
      ],
      "execution_count": null,
      "outputs": [
        {
          "output_type": "stream",
          "text": [
            "Enter the number of segments: 10\n",
            "199.92665107476262\n"
          ],
          "name": "stdout"
        }
      ]
    },
    {
      "cell_type": "markdown",
      "metadata": {
        "id": "O7wb9fQDhlvt"
      },
      "source": [
        "**Task 2**\n"
      ]
    },
    {
      "cell_type": "markdown",
      "metadata": {
        "id": "Lk5Yyy9OhtpU"
      },
      "source": [
        "2. Write your Python code to solve the integral using a Romberg integration."
      ]
    },
    {
      "cell_type": "markdown",
      "metadata": {
        "id": "Ng70FXgPRyoP"
      },
      "source": [
        "The whole algorithm can be divided to two parts:\n",
        "\n",
        "\n",
        "1.   Trapezoid rule\n",
        "2.   Richardson extrapolation\n",
        "\n",
        "First of all we created the matrix where all results will be calculated.Then the first column for all rows will be devoted to Trapezoidal rule.In other words, with the increased(j+1) row of a matrix, we will find  the integral of a function by a trapezoidal rule with a period of changing h (h/= 2).\n",
        "\n",
        "Then we use Richardson extraploation until the the final result will be calculated.Roughly speaking, the main idea of Richardson is the combination of two integrals from the previous column.The algorithm of mathematical operations can be seen below, where each step is Trapezoidal or Richardson method.\n",
        "\n",
        "\n",
        "$$(Trapezoidal){h_{n}={\\tfrac {1}{2^{n}}}(b-a)}$$\n",
        "\n",
        "\n",
        "$$(Trapezoidal){\\displaystyle R(0,0)=h_{1}(f(a)+f(b))}$$\n",
        "\n",
        "$$(Trapezoidal){\\displaystyle R(n,0)={\\tfrac {1}{2}}R(n-1,0)+h_{n}\\sum _{k=1}^{2^{n-1}}f(a+(2k-1)h_{n})}$$\n",
        "\n",
        "$$(Richardson){\\displaystyle R(n,m)={\\tfrac {1}{4^{m}-1}}(4^{m}R(n,m-1)-R(n-1,m-1))}$$\n"
      ]
    },
    {
      "cell_type": "code",
      "metadata": {
        "colab": {
          "base_uri": "https://localhost:8080/"
        },
        "id": "rU0WDuyZabnQ",
        "outputId": "ef4b5199-096d-4d66-d109-5f2c745aced8"
      },
      "source": [
        "iter = 5\n",
        "matrix = np.zeros((iter, iter))\n",
        "#Trapezoidal rule\n",
        "h = (b - a)\n",
        "matrix[0, 0] = h * (v(a) + v(b)) / 2\n",
        "for j in range(1, iter):\n",
        "  h /= 2\n",
        "  matrix[j, 0] = matrix[j - 1, 0] / 2\n",
        "  for i in range(1, 2 ** j + 1, 2):\n",
        "    matrix[j, 0] += h * np.sum(v(a + i * h)) \n",
        "\n",
        "  #Richardson extrapolation\n",
        "  for k in range(1, j + 1):\n",
        "    matrix[j, k] = ((4**k)*matrix[j, k - 1] - matrix[j - 1, k - 1]) / (4**(k)-1)\n",
        "\n",
        "print(matrix)\n",
        "print('The final result is: ', matrix[-1, -1])"
      ],
      "execution_count": null,
      "outputs": [
        {
          "output_type": "stream",
          "text": [
            "[[189.02575293   0.           0.           0.           0.        ]\n",
            " [197.23732731 199.97451877   0.           0.           0.        ]\n",
            " [199.33572689 200.03519342 200.0392384    0.           0.        ]\n",
            " [199.86326663 200.03911321 200.03937453 200.03937669   0.        ]\n",
            " [199.99533686 200.03936027 200.03937674 200.03937677 200.03937677]]\n",
            "The final result is:  200.0393767712411\n"
          ],
          "name": "stdout"
        }
      ]
    },
    {
      "cell_type": "markdown",
      "metadata": {
        "id": "rNWP6qm0Yof4"
      },
      "source": [
        "**Task 3**\n",
        "\n",
        "\n",
        "Write your Python code to compute the numerical integration using a Gauss quadrature."
      ]
    },
    {
      "cell_type": "markdown",
      "metadata": {
        "id": "5LyFsR4nqErP"
      },
      "source": [
        "Genereally, findinng the integral by Gauss quadrature is based on 2 things:\n",
        "\n",
        "\n",
        "1.   Linear transformation of the main equation, where the period is changed from [a,b] to [-1,1].\n",
        "2.   Finding the weighting factors and function arguments by the Gauss-Legendre Formula\n",
        "\n",
        "\n",
        "In the Gauss quadrature algorithm we have implemented the \"scipy.special.roots_lengendre\" function for definig the weighting factors and function arguments.The calculation of these terms will be related to the number of estimated points(n).Estimation of function at two points will be called the Two Points Gauss-Legendre Formula.The Formula for finding the integral by Gauss Quadrature can be seen below:\n",
        "\n",
        "$${\\displaystyle \\int_{a}^{b}v(t)dt = \\frac{b-a}{2}}\\sum _{i=1}^{n}c_iv(\\frac{(b-a)t_{new_i}+(b+a)}{2})$$\n",
        "\n",
        "where $c_i$ is the weighting factor and $t_{new_i}$ is the function argument.\n",
        "\n",
        "For n = 2\n",
        "*   $c_1 = 1.0 $\n",
        "*   $c_2 = 1.0 $\n",
        "*   $t_{new_i} = -1/\\sqrt{3} $\n",
        "*   $t_{new_i} = 1/\\sqrt{3} $\n",
        "\n",
        "n can be extended to further integers"
      ]
    },
    {
      "cell_type": "code",
      "metadata": {
        "colab": {
          "base_uri": "https://localhost:8080/"
        },
        "id": "EWy3k8iYnhmP",
        "outputId": "a7eb5824-8b2c-4957-ebea-9cb567d95254"
      },
      "source": [
        "from scipy.special import roots_legendre\n",
        "a = 3\n",
        "b = 9\n",
        "n = 2\n",
        "[t_new,c] = roots_legendre(n+1)\n",
        "Integral = ((b-a)/2)*np.sum(c*v(((b-a)*t_new+(b+a))/2))\n",
        "print(Integral)\n",
        "    "
      ],
      "execution_count": null,
      "outputs": [
        {
          "output_type": "stream",
          "text": [
            "200.03950937786416\n"
          ],
          "name": "stdout"
        }
      ]
    },
    {
      "cell_type": "markdown",
      "metadata": {
        "id": "Q_p_h65W8cey"
      },
      "source": [
        "**Task 4 - 5**\n",
        "\n",
        "4. Which method gives the smallest error? Compare it with the analytical solution.\n",
        "5. Which method is a better option considering their computational cost and precision?\n",
        "\n",
        "We have performed the integration of a main function analytically.And the exact result was \n",
        "\n",
        "*   d = 200.0393767712522 m"
      ]
    },
    {
      "cell_type": "markdown",
      "metadata": {
        "id": "OEmBj-Leo42l"
      },
      "source": [
        "In this combined tasks we will examine the performance of each method in terms of their computational cost(Runtime in milliseconds) and Precision(True Error).\n",
        "And then we will compare these three methods for their above mentioned performance.\n",
        "\n",
        "The calculation of run time and true error will be proceeding until the threshold error will be achieved.\n",
        "At the end we will plot the Overall graph for all three methods and analyze it."
      ]
    },
    {
      "cell_type": "code",
      "metadata": {
        "id": "shznseyBMcyQ"
      },
      "source": [
        "exact = 200.0393767712522\n",
        "threshold = 1e-7\n",
        "errors = []"
      ],
      "execution_count": null,
      "outputs": []
    },
    {
      "cell_type": "markdown",
      "metadata": {
        "id": "-g24a1_Ob_XF"
      },
      "source": [
        "**Performance for Trapezoidal Method**"
      ]
    },
    {
      "cell_type": "markdown",
      "metadata": {
        "id": "2Q4lJt39TVMv"
      },
      "source": [
        "We will assess the Trapezoidal algorithm 9 times for runtime and true_error.The runtime will be examined by the fucntion %%timeit.\n",
        "\n",
        "\n",
        "\n",
        "\n"
      ]
    },
    {
      "cell_type": "code",
      "metadata": {
        "colab": {
          "base_uri": "https://localhost:8080/"
        },
        "id": "vCUE_jDwFKzi",
        "outputId": "0331c5d0-e93f-4a3f-c291-13a68b3cb0be"
      },
      "source": [
        "%%timeit -n 1\n",
        "b = 9\n",
        "a = 3\n",
        "n = 8000\n",
        "h = (b - a)/n\n",
        "sum = v(a)+ v(b)\n",
        "i = 1\n",
        "while i < n: \n",
        "  temp = a + i * h\n",
        "  sum += v(temp) * 2\n",
        "  i += 1\n",
        "trapezoid = (h*sum)/2\n",
        "true_error = abs((exact - trapezoid)/exact) * 100\n",
        "errors.append(true_error)\n",
        "print(trapezoid)\n",
        "print(true_error)\n",
        "print(n)   "
      ],
      "execution_count": null,
      "outputs": [
        {
          "output_type": "stream",
          "text": [
            "200.03937659507628\n",
            "8.807061857797612e-08\n",
            "8000\n",
            "200.03937659507628\n",
            "8.807061857797612e-08\n",
            "8000\n",
            "200.03937659507628\n",
            "8.807061857797612e-08\n",
            "8000\n",
            "200.03937659507628\n",
            "8.807061857797612e-08\n",
            "8000\n",
            "200.03937659507628\n",
            "8.807061857797612e-08\n",
            "8000\n",
            "1 loop, best of 5: 15 ms per loop\n"
          ],
          "name": "stdout"
        }
      ]
    },
    {
      "cell_type": "markdown",
      "metadata": {
        "id": "SxUkZHzqYRQ-"
      },
      "source": [
        "We calcualted the true error and runtime of trapezoidal method for each n-interations.\n",
        "\n",
        "$$n = 1,1000,2000,3000,4000,5000,6000,7000,8000$$\n",
        "\n",
        "It ends at 8000, because at the 8000 interations the needed error(1e-7) is achieved.\n",
        "Overall there are 9 true errors and runtimes. "
      ]
    },
    {
      "cell_type": "code",
      "metadata": {
        "colab": {
          "base_uri": "https://localhost:8080/"
        },
        "id": "J7GB0xU0Iq1E",
        "outputId": "807f482e-7140-49d7-d924-96dbb5794a0c"
      },
      "source": [
        "errors\n"
      ],
      "execution_count": null,
      "outputs": [
        {
          "output_type": "execute_result",
          "data": {
            "text/plain": [
              "array([5.50572793e+00, 5.63652757e-06, 1.40913193e-06, 6.26280854e-07,\n",
              "       3.52283028e-07, 2.25460814e-07, 1.56570306e-07, 1.15031274e-07,\n",
              "       8.80706186e-08])"
            ]
          },
          "metadata": {
            "tags": []
          },
          "execution_count": 180
        }
      ]
    },
    {
      "cell_type": "code",
      "metadata": {
        "id": "bw7fg-IvVeTA"
      },
      "source": [
        "time = [0.271, 2.5, 3.78, 5.83, 7.56, 10, 11.7, 13.9, 15.6]"
      ],
      "execution_count": null,
      "outputs": []
    },
    {
      "cell_type": "markdown",
      "metadata": {
        "id": "tmviAn-uaM5q"
      },
      "source": [
        "**Plotting the true error vs runtime graph for Trapezoidal method**"
      ]
    },
    {
      "cell_type": "code",
      "metadata": {
        "colab": {
          "base_uri": "https://localhost:8080/",
          "height": 283
        },
        "id": "mSEJ-q1WaW2R",
        "outputId": "25975a26-f1ea-4857-ccd2-301673eb7edc"
      },
      "source": [
        "trapez_errors = np.array(errors)\n",
        "trapez_time = np.array(time)\n",
        "plt.plot(trapez_time, trapez_errors)"
      ],
      "execution_count": null,
      "outputs": [
        {
          "output_type": "execute_result",
          "data": {
            "text/plain": [
              "[<matplotlib.lines.Line2D at 0x7fa4d69b61d0>]"
            ]
          },
          "metadata": {
            "tags": []
          },
          "execution_count": 184
        },
        {
          "output_type": "display_data",
          "data": {
            "image/png": "[encoded data removed]",
            "text/plain": [
              "<Figure size 432x288 with 1 Axes>"
            ]
          },
          "metadata": {
            "tags": [],
            "needs_background": "light"
          }
        }
      ]
    },
    {
      "cell_type": "markdown",
      "metadata": {
        "id": "70y-IPtCcHr0"
      },
      "source": [
        "**Performance of Romberg Method**"
      ]
    },
    {
      "cell_type": "markdown",
      "metadata": {
        "id": "Ghzf5esze6wd"
      },
      "source": [
        "For Romberg method to achieve the necessary error, is need 4 steps in terms of iterations.The strategy for asssessing the runtime and true errors for this method is the same to Trapezoidal method\n"
      ]
    },
    {
      "cell_type": "code",
      "metadata": {
        "id": "fv_TUzZafXQG"
      },
      "source": [
        "romberg_errors = []\n",
        "romberg_time = []"
      ],
      "execution_count": null,
      "outputs": []
    },
    {
      "cell_type": "code",
      "metadata": {
        "colab": {
          "base_uri": "https://localhost:8080/"
        },
        "id": "Dpq8Iz5LcJOu",
        "outputId": "944b89d7-24cf-4371-e14c-9a0690f79d6b"
      },
      "source": [
        "%%timeit -n 1\n",
        "iter = 4\n",
        "matrix = np.zeros((iter, iter))\n",
        "#Trapezoidal rule\n",
        "h = (b - a)\n",
        "matrix[0, 0] = h * (v(a) + v(b)) / 2\n",
        "for j in range(1, iter):\n",
        "  h /= 2\n",
        "  matrix[j, 0] = matrix[j - 1, 0] / 2\n",
        "  for i in range(1, 2 ** j + 1, 2):\n",
        "    matrix[j, 0] += h * np.sum(v(a + i * h)) \n",
        "\n",
        "  #Richardson extrapolation\n",
        "  for k in range(1, j + 1):\n",
        "    matrix[j, k] = ((4**k)*matrix[j, k - 1] - matrix[j - 1, k - 1]) / (4**(k)-1)\n",
        "\n",
        "\n",
        "true_error = abs((exact - matrix[-1,-1])/exact) * 100\n",
        "print(true_error)\n",
        "print('The final result is: ', matrix[-1, -1])\n",
        "\n"
      ],
      "execution_count": null,
      "outputs": [
        {
          "output_type": "stream",
          "text": [
            "3.886916727394687e-08\n",
            "The final result is:  200.03937669349855\n"
          ],
          "name": "stdout"
        }
      ]
    },
    {
      "cell_type": "markdown",
      "metadata": {
        "id": "BgnibC1xhZVU"
      },
      "source": [
        "We have calculated the true errors and runtime of the Romberg method, where \n",
        "\n",
        "$$iter = 1,2,3,4$$"
      ]
    },
    {
      "cell_type": "code",
      "metadata": {
        "colab": {
          "base_uri": "https://localhost:8080/"
        },
        "id": "_ZmIVNi4f_uX",
        "outputId": "05624113-be98-49c8-9fe2-c38af1638da8"
      },
      "source": [
        "romberg_errors"
      ],
      "execution_count": null,
      "outputs": [
        {
          "output_type": "execute_result",
          "data": {
            "text/plain": [
              "[5.505727933876512,\n",
              " 0.032422615264888544,\n",
              " 6.917302795811698e-05,\n",
              " 3.886916727394687e-08]"
            ]
          },
          "metadata": {
            "tags": []
          },
          "execution_count": 195
        }
      ]
    },
    {
      "cell_type": "code",
      "metadata": {
        "id": "N7yP75-Zg_nW"
      },
      "source": [
        "romberg_time = [0.287,0.335,0.435,0.622]"
      ],
      "execution_count": null,
      "outputs": []
    },
    {
      "cell_type": "markdown",
      "metadata": {
        "id": "kg0lCiUyhwzM"
      },
      "source": [
        "**Plotting the true error vs runtime graph for Romberg method**"
      ]
    },
    {
      "cell_type": "code",
      "metadata": {
        "colab": {
          "base_uri": "https://localhost:8080/",
          "height": 283
        },
        "id": "88axQvn_gXuN",
        "outputId": "8ebdebdb-321e-4d96-aec2-b9c9d59f11f1"
      },
      "source": [
        "romberg_errors = np.array(romberg_errors)\n",
        "romberg_time = np.array(romberg_time)\n",
        "plt.plot(romberg_time,romberg_errors)\n"
      ],
      "execution_count": null,
      "outputs": [
        {
          "output_type": "execute_result",
          "data": {
            "text/plain": [
              "[<matplotlib.lines.Line2D at 0x7fa4d684ee90>]"
            ]
          },
          "metadata": {
            "tags": []
          },
          "execution_count": 209
        },
        {
          "output_type": "display_data",
          "data": {
            "image/png": "[encoded data removed]",
            "text/plain": [
              "<Figure size 432x288 with 1 Axes>"
            ]
          },
          "metadata": {
            "tags": [],
            "needs_background": "light"
          }
        }
      ]
    },
    {
      "cell_type": "markdown",
      "metadata": {
        "id": "VLpMMZ4cf_jO"
      },
      "source": [
        "**Performance of Gauss quadrature Method**"
      ]
    },
    {
      "cell_type": "markdown",
      "metadata": {
        "id": "GKS0s7P2ioSU"
      },
      "source": [
        "For Gauss quadrature method to achieve the necessary error, is need 4 points to be estimated in terms of Gauss-Legendre Formula.The strategy for asssessing the runtime and true errors for this method is the same to Trapezoidal method."
      ]
    },
    {
      "cell_type": "code",
      "metadata": {
        "id": "yUCs_03Ji6kV"
      },
      "source": [
        "gauss_errors = []"
      ],
      "execution_count": null,
      "outputs": []
    },
    {
      "cell_type": "code",
      "metadata": {
        "colab": {
          "base_uri": "https://localhost:8080/"
        },
        "id": "A0kv7vfEiiYE",
        "outputId": "5bf22d5f-e90b-4ba7-d38d-a38958a50c62"
      },
      "source": [
        "%%timeit -n 1\n",
        "a = 3\n",
        "b = 9\n",
        "n = 4\n",
        "[t_new,c] = roots_legendre(n+1)\n",
        "Integral = ((b-a)/2)*np.sum(c*v(((b-a)*t_new+(b+a))/2))\n",
        "true_error = abs((exact - Integral)/exact) * 100\n",
        "gauss_errors.append(true_error)\n",
        "print(true_error)\n",
        "print(Integral)"
      ],
      "execution_count": null,
      "outputs": [
        {
          "output_type": "stream",
          "text": [
            "1.0896159203246047e-10\n",
            "200.03937677147016\n"
          ],
          "name": "stdout"
        }
      ]
    },
    {
      "cell_type": "markdown",
      "metadata": {
        "id": "mbQVltH2ljO1"
      },
      "source": [
        "We have calculated the true errors and runtime of the Gauss quadrature Method  method for\n",
        "\n",
        "\n",
        "*   One Points Gauss-Legendre Formula\n",
        "*   Two Points Gauss-Legendre Formula\n",
        "*   Three Points Gauss-Legendre Formula\n",
        "*   Four Points Gauss-Legendre Formula\n",
        "\n",
        "\n"
      ]
    },
    {
      "cell_type": "code",
      "metadata": {
        "colab": {
          "base_uri": "https://localhost:8080/"
        },
        "id": "2f5zlr4DkYjB",
        "outputId": "ea2ff33f-1487-4ac6-9f94-c00f6a119a9d"
      },
      "source": [
        "gauss_errors"
      ],
      "execution_count": null,
      "outputs": [
        {
          "output_type": "execute_result",
          "data": {
            "text/plain": [
              "[0.021553451872546262,\n",
              " 6.629025450417661e-05,\n",
              " 1.080004737830632e-07,\n",
              " 1.0896159203246047e-10]"
            ]
          },
          "metadata": {
            "tags": []
          },
          "execution_count": 242
        }
      ]
    },
    {
      "cell_type": "code",
      "metadata": {
        "id": "13L4zfTZklKx"
      },
      "source": [
        "gauss_time = [0.370,0.375,0.342,0.680]"
      ],
      "execution_count": null,
      "outputs": []
    },
    {
      "cell_type": "markdown",
      "metadata": {
        "id": "dVVG33FYmW1H"
      },
      "source": [
        "**Plotting the true error vs runtime graph for Gauss quadrature**"
      ]
    },
    {
      "cell_type": "code",
      "metadata": {
        "colab": {
          "base_uri": "https://localhost:8080/",
          "height": 283
        },
        "id": "IzRU6i7UlXPC",
        "outputId": "14a3012e-4949-4b42-ef6e-a61314ea1d1d"
      },
      "source": [
        "gauss_errors = np.array(gauss_errors)\n",
        "gauss_time = np.array(gauss_time)\n",
        "plt.plot(gauss_time,gauss_errors)"
      ],
      "execution_count": null,
      "outputs": [
        {
          "output_type": "execute_result",
          "data": {
            "text/plain": [
              "[<matplotlib.lines.Line2D at 0x7fa4d682e590>]"
            ]
          },
          "metadata": {
            "tags": []
          },
          "execution_count": 243
        },
        {
          "output_type": "display_data",
          "data": {
            "image/png": "[encoded data removed]",
            "text/plain": [
              "<Figure size 432x288 with 1 Axes>"
            ]
          },
          "metadata": {
            "tags": [],
            "needs_background": "light"
          }
        }
      ]
    },
    {
      "cell_type": "markdown",
      "metadata": {
        "id": "NqnigxK7mc_9"
      },
      "source": [
        "**The General graph of performance(Runtime(microseconds) vs. True Error) for all three methods of calculating the Integral.**"
      ]
    },
    {
      "cell_type": "code",
      "metadata": {
        "colab": {
          "base_uri": "https://localhost:8080/",
          "height": 497
        },
        "id": "sEKhxuxFmdWP",
        "outputId": "c0b89d8c-8fcc-424b-bb7b-ede24b95afd1"
      },
      "source": [
        "plt.figure(figsize = (12,8))\n",
        "plt.plot(trapez_time, trapez_errors)\n",
        "plt.plot(romberg_time,romberg_errors)\n",
        "plt.plot(gauss_time,gauss_errors)\n",
        "plt.legend(['Trapezoidal Method', 'Romberg Method', 'Gauss quadrature Method'], loc='best')\n",
        "plt.xlabel('RunTime in milliseconds')\n",
        "plt.ylabel('True Error')\n",
        "plt.show()"
      ],
      "execution_count": null,
      "outputs": [
        {
          "output_type": "display_data",
          "data": {
            "image/png": "[encoded data removed]",
            "text/plain": [
              "<Figure size 864x576 with 1 Axes>"
            ]
          },
          "metadata": {
            "tags": [],
            "needs_background": "light"
          }
        }
      ]
    },
    {
      "cell_type": "markdown",
      "metadata": {
        "id": "rDyAnzSznvAU"
      },
      "source": [
        "**Results**\n",
        "\n",
        "From the graph above, it can be seen that for high accuracy of a result the multiple-segment trapezoidal rule demands a great deal\n",
        "of computational effort. While these Romberg and Gauss quadrature methods has the more accurate results at the same computational cost.In other words Romberg and Gauss quadrature achiving the better accuracy much faster that Trapezoidal rule method.So answering to the 4 and 5 question, at the computational cost $O(h^4)$, the Gauss Quadrature method is a more efficient method for a given problem, as it gives the  better precision than Trapezoidal and Romberg method has.\n"
      ]
    },
    {
      "cell_type": "markdown",
      "metadata": {
        "id": "Z7E0-ebFS6Ts"
      },
      "source": [
        "Errors of each method"
      ]
    },
    {
      "cell_type": "code",
      "metadata": {
        "colab": {
          "base_uri": "https://localhost:8080/"
        },
        "id": "6LdtIAxTNpgL",
        "outputId": "8df5b82a-71e5-4f25-d029-ac75bec7be85"
      },
      "source": [
        "print(trapez_errors,\"\\n\",romberg_errors,\"\\n\",gauss_errors)\n",
        "trapez_time\n",
        "romberg_time\n",
        "gauss_time"
      ],
      "execution_count": null,
      "outputs": [
        {
          "output_type": "stream",
          "text": [
            "[5.50572793e+00 5.63652757e-06 1.40913193e-06 6.26280854e-07\n",
            " 3.52283028e-07 2.25460814e-07 1.56570306e-07 1.15031274e-07\n",
            " 8.80706186e-08] \n",
            " [5.50572793e+00 3.24226153e-02 6.91730280e-05 3.88691673e-08] \n",
            " [2.15534519e-02 6.62902545e-05 1.08000474e-07 1.08961592e-10]\n"
          ],
          "name": "stdout"
        }
      ]
    },
    {
      "cell_type": "markdown",
      "metadata": {
        "id": "Xy90j0e3S-Tr"
      },
      "source": [
        "Runtime of Each method"
      ]
    },
    {
      "cell_type": "code",
      "metadata": {
        "colab": {
          "base_uri": "https://localhost:8080/"
        },
        "id": "LtE-cmF6S0QI",
        "outputId": "9ba2912c-28dc-4d4e-a2f1-18aa9a29fd66"
      },
      "source": [
        "print(trapez_time,\"\\n\",romberg_time,\"\\n\",gauss_time)"
      ],
      "execution_count": null,
      "outputs": [
        {
          "output_type": "stream",
          "text": [
            "[ 0.271  2.5    3.78   5.83   7.56  10.    11.7   13.9   15.6  ] \n",
            " [0.287 0.335 0.435 0.622] \n",
            " [0.37  0.375 0.342 0.68 ]\n"
          ],
          "name": "stdout"
        }
      ]
    },
    {
      "cell_type": "markdown",
      "metadata": {
        "id": "YnTVGp3KsVZb"
      },
      "source": [
        "**Conclusion**\n",
        "\n",
        "To conclude, we have found that Gauss Quadrature is the most efficient method for this research problem.We also proved that Romberg and Gauss methods is particularly efficient than Trapezoidal rule at a situation where the main function is known and you can calculate the f(x) at any point.The significane of this research is related to assessment of each algorithm for its efficiency at a given problem.This assessment is important because it gives the characteristics of each method and by this characteristic the most useful and efficient algorithm can be implemented in any process of various fields.\n"
      ]
    },
    {
      "cell_type": "code",
      "metadata": {
        "id": "wUAWTWCUsaYe"
      },
      "source": [
        ""
      ],
      "execution_count": null,
      "outputs": []
    }
  ]
}