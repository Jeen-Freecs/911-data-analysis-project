{
  "nbformat": 4,
  "nbformat_minor": 0,
  "metadata": {
    "colab": {
      "name": "System of Linear Algebraic Equations.ipynb",
      "provenance": [],
      "authorship_tag": "ABX9TyMQhBQBpLgOAWtuf9zQ020q",
      "include_colab_link": true
    },
    "kernelspec": {
      "name": "python3",
      "display_name": "Python 3"
    }
  },
  "cells": [
    {
      "cell_type": "markdown",
      "metadata": {
        "id": "view-in-github",
        "colab_type": "text"
      },
      "source": [
        "<a href=\"https://colab.research.google.com/github/Jeen-Freecs/DS_Pet_Projects/blob/main/Numerical%20Algorithms/System_of_Linear_Algebraic_Equations.ipynb\" target=\"_parent\"><img src=\"https://colab.research.google.com/assets/colab-badge.svg\" alt=\"Open In Colab\"/></a>"
      ]
    },
    {
      "cell_type": "markdown",
      "metadata": {
        "id": "R0uiyZND-EGb"
      },
      "source": [
        "## Project: Systems of Liear Algebraic Equations"
      ]
    },
    {
      "cell_type": "markdown",
      "metadata": {
        "id": "fCcMgK9--F1D"
      },
      "source": [
        "**Abstract**\n",
        "\n",
        "In this assignment, we examined 2 types of finding the solution for Tridiagonal System below. Thomas and Gauss-Seidel methods are considered to be the most efficient ways of finding the solution, due to the form of Tridiagonal Matrix.\n"
      ]
    },
    {
      "cell_type": "markdown",
      "metadata": {
        "id": "7InvI7RKdQYo"
      },
      "source": [
        "**Introduction**\n",
        "\n",
        "The idea behind using these methods is closely related to the form of matrix **A**.If matrix **A** has special properties(Tridiagonal System), we can use them in order to modify the common methods such as Gauss elimination and LU Decomposition.As a result of modification, Thomas and Gauss-Seidelalgorithms were created and these methods require less memory for storage and have a better time complexity.\n",
        "\n",
        "1)The Thomas Algorithm is almost is simillar to LU Decomposition.However,\n",
        "the main distinctive feature of Thomas Algorithm is the small number of elements we should operate.The reason for this is that in Thomas Algorithm we store 3 \"1-D matrices\"(3n-2 elements), while in LU Decomposition method we have to store 2D matrix(n^2). Therefore, this difference affected the time and storage efficiency of Thomas Algorrithm.\n",
        "\n",
        "\n",
        "2)The most commonly used iterative method is the Gauss-Seidel method.  The idea is when each new x value is calculated for the Gauss-Seidel method, it is immediately used in the next equation to compute another x value.The difference is that we will not know the true answer a priori, as the result is known to at least the tolerance specified by estimated error.\n"
      ]
    },
    {
      "cell_type": "markdown",
      "metadata": {
        "id": "Z8g-X3SipeW3"
      },
      "source": [
        "**Main Body**"
      ]
    },
    {
      "cell_type": "markdown",
      "metadata": {
        "id": "CCwaJ_2R-HlJ"
      },
      "source": [
        "\n",
        "Consider the system of linear algebraic equations:\n",
        "\n",
        "$\\tiny \\begin{bmatrix}\n",
        "2.01475 & -0.020875 & 0 & 0\\\\\n",
        "-0.020875 & 2.01475 & -0.020875 & 0\\\\\n",
        "0 & -0.020875 & 2.01475 & -0.020875 \\\\\n",
        "0 & 0 & -0.020875 & 2.01475\n",
        "\\end{bmatrix} \n",
        "\\begin{Bmatrix}\n",
        "x_1 \\\\\n",
        "x_2 \\\\\n",
        "x_3 \\\\\n",
        "x_4 \n",
        "\\end{Bmatrix}=\n",
        "\\begin{Bmatrix}\n",
        "4.175 \\\\\n",
        "0 \\\\\n",
        "0 \\\\\n",
        "2.0875 \n",
        "\\end{Bmatrix}$\n",
        "\n",
        "\n"
      ]
    },
    {
      "cell_type": "code",
      "metadata": {
        "id": "ML1KofKOcOwS"
      },
      "source": [
        "import numpy as np"
      ],
      "execution_count": null,
      "outputs": []
    },
    {
      "cell_type": "markdown",
      "metadata": {
        "id": "UpC7vNr1-Z5x"
      },
      "source": [
        "(**a**) Solve this system using the Thomas algorithm (write your own code for implementing the algorithm). Your code must print out the calculated solution $x_i$. Calculate how long it takes to find the solution. "
      ]
    },
    {
      "cell_type": "markdown",
      "metadata": {
        "id": "96dMFqwlpAVA"
      },
      "source": [
        "Implementing the Thomas Algorithm as a function:"
      ]
    },
    {
      "cell_type": "code",
      "metadata": {
        "id": "PhzPYNQS93O7"
      },
      "source": [
        " #Thomas Algorithm\n",
        " def th_a(e,f,g,b):\n",
        "  n = len(b)  \n",
        "  e_k, f_k, g_k, b_k = map(np.array, (e, f, g, b))\n",
        " \n",
        "  for i in range(1,n):\n",
        "    f_k[i] = f_k[i] - (e_k[i-1]/f_k[i-1])*g_k[i-1]\n",
        "    b_k[i] = b_k[i] - (e_k[i-1]/f_k[i-1])*b_k[i-1]\n",
        "  \n",
        "  x_k = np.zeros(n,float)\n",
        "  x_k[-1] = b_k[-1]/f_k[-1]\n",
        " \n",
        "  for i in range(n-2, -1, -1):\n",
        "    x_k[i] = (b_k[i]-g_k[i]*x_k[i+1])/f_k[i]\n",
        " \n",
        "  return x_k"
      ],
      "execution_count": null,
      "outputs": []
    },
    {
      "cell_type": "code",
      "metadata": {
        "colab": {
          "base_uri": "https://localhost:8080/"
        },
        "id": "IFG2JbONNeHI",
        "outputId": "5bc529f3-e461-4ef3-ef7e-b8c4be84e8ee"
      },
      "source": [
        "%%timeit -n 100\n",
        "low_d = np.array([-0.020875,-0.020875,-0.020875]) \n",
        "main_d = np.array([2.01475,2.01475,2.01475,2.01475])\n",
        "upper_d = np.array([-0.020875,-0.020875,-0.020875])\n",
        "sol = np.array([4.175,0,0,2.0875])\n",
        " \n",
        "solution = th_a(low_d, main_d, upper_d, sol)"
      ],
      "execution_count": null,
      "outputs": [
        {
          "output_type": "stream",
          "text": [
            "100 loops, best of 3: 21.8 µs per loop\n"
          ],
          "name": "stdout"
        }
      ]
    },
    {
      "cell_type": "code",
      "metadata": {
        "colab": {
          "base_uri": "https://localhost:8080/"
        },
        "id": "1P1Znjr9atV5",
        "outputId": "922785b3-24e6-4a42-d6be-b36b3b8c86b4"
      },
      "source": [
        "print(th_a(low_d, main_d, upper_d, sol))"
      ],
      "execution_count": null,
      "outputs": [
        {
          "output_type": "stream",
          "text": [
            "[2.07244105 0.0215863  0.01096005 1.03622226]\n"
          ],
          "name": "stdout"
        }
      ]
    },
    {
      "cell_type": "markdown",
      "metadata": {
        "id": "TUlHfWOw1elS"
      },
      "source": [
        "(**b**) Solve this system using the Gauss-Seidel method \n",
        "(write your own code for implementing the algorithm). Your code must print out the calculated solution $x_i$. Calculate how long it takes to find the solution.\n"
      ]
    },
    {
      "cell_type": "markdown",
      "metadata": {
        "id": "Xo2XhDx7Tetu"
      },
      "source": [
        "Implementing the Gauss-Seidel Method as a function:\n"
      ]
    },
    {
      "cell_type": "code",
      "metadata": {
        "id": "ElR5N4-d1jK2"
      },
      "source": [
        "def gauss_seidel(a, x ,b):         \n",
        "  n = len(a)   \n",
        "  a_k, x_k, b_k = map(np.array, (a, x, b))                 \n",
        "  for j in range(0, n):          \n",
        "    d = b_k[j]  \n",
        "\n",
        "    for i in range(0, n):      \n",
        "      if(j != i): \n",
        "        d = d - a_k[j][i] * x_k[i]       \n",
        "    x_k[j] = d/a_k[j][j]\n",
        "             \n",
        "  return x_k                      "
      ],
      "execution_count": null,
      "outputs": []
    },
    {
      "cell_type": "code",
      "metadata": {
        "colab": {
          "base_uri": "https://localhost:8080/"
        },
        "id": "Wo8KbU0SSOGD",
        "outputId": "ab1dd512-bbc9-45fc-c55a-81f394241714"
      },
      "source": [
        "%%timeit -n 100\n",
        "#Giving the initial conditions for Gauss-Seudal Method\n",
        "x = np.array([0, 0, 0, 0],float)                       \n",
        "a = np.array([[2.01475, -0.020875, 0, 0],\n",
        "              [-0.020875, 2.01475, -0.020875, 0],\n",
        "              [0, -0.020875, 2.01475, -0.020875],\n",
        "              [0, 0, -0.020875, 2.01475]],float)\n",
        "b = np.array([4.175, 0, 0, 2.0875],float) \n",
        "\n",
        "#Finding the solution relying on the estimate error\n",
        "error = 1e-6\n",
        "while True: \n",
        "  x_old = x            \n",
        "  x = gauss_seidel(a, x, b) \n",
        "  estimate_error_x1 = (x[0]-x_old[0])/x[0]\n",
        "  estimate_error_x2 = (x[1]-x_old[1])/x[1]\n",
        "  estimate_error_x3 = (x[2]-x_old[2])/x[2]\n",
        "  estimate_error_x4 = (x[3]-x_old[3])/x[3]\n",
        "  if estimate_error_x1 < error and estimate_error_x2 < error and estimate_error_x3 < error and estimate_error_x4 < error:\n",
        "    break"
      ],
      "execution_count": null,
      "outputs": [
        {
          "output_type": "stream",
          "text": [
            "100 loops, best of 3: 97 µs per loop\n"
          ],
          "name": "stdout"
        }
      ]
    },
    {
      "cell_type": "code",
      "metadata": {
        "colab": {
          "base_uri": "https://localhost:8080/"
        },
        "id": "fY0ED9RLafAE",
        "outputId": "e295dbc5-1f88-4e81-f091-d5e907c07bb0"
      },
      "source": [
        "print(x)"
      ],
      "execution_count": null,
      "outputs": [
        {
          "output_type": "stream",
          "text": [
            "[2.07244105 0.0215863  0.01096005 1.03622226]\n"
          ],
          "name": "stdout"
        }
      ]
    },
    {
      "cell_type": "markdown",
      "metadata": {
        "id": "WjHuzSXQaB3A"
      },
      "source": [
        "(c) By what factor is the Thomas algorithm faster or slower compared to the Gauss-Seidel method for obtaining the solutions with the same accuracy? Provide a reliable estimate of this factor."
      ]
    },
    {
      "cell_type": "markdown",
      "metadata": {
        "id": "ols8nHNSWmmh"
      },
      "source": [
        "\n",
        "\n",
        "From the results above, by looking at the runtime of both algorithms, Thomas algorithm is faster than Gauss-Seidel algorithm by a factor of 4.57971:\n",
        "\n",
        "  $$\\frac{94.8}{20.7} = 4.57971$$\n",
        "\n",
        "\n",
        "\n",
        "\n",
        "\n"
      ]
    },
    {
      "cell_type": "markdown",
      "metadata": {
        "id": "uv7D7vlGZ4_6"
      },
      "source": [
        "**Conclusion**\n",
        "\n",
        "To conclude, it can be stated that in this case the Thomas Algorithm is the fastest method for finding the solution for Tridiagonal Matrix."
      ]
    }
  ]
}