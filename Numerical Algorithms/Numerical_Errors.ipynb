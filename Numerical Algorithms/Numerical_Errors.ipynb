{
  "nbformat": 4,
  "nbformat_minor": 0,
  "metadata": {
    "colab": {
      "name": "Numerical Errors.ipynb",
      "provenance": [],
      "collapsed_sections": [],
      "authorship_tag": "ABX9TyMeD+sP78CAk8vfFh6ZzxaA",
      "include_colab_link": true
    },
    "kernelspec": {
      "name": "python3",
      "display_name": "Python 3"
    }
  },
  "cells": [
    {
      "cell_type": "markdown",
      "metadata": {
        "id": "view-in-github",
        "colab_type": "text"
      },
      "source": [
        "<a href=\"https://colab.research.google.com/github/Jeen-Freecs/DS_Pet_Projects/blob/main/Numerical%20Algorithms/Numerical_Errors.ipynb\" target=\"_parent\"><img src=\"https://colab.research.google.com/assets/colab-badge.svg\" alt=\"Open In Colab\"/></a>"
      ]
    },
    {
      "cell_type": "markdown",
      "metadata": {
        "id": "y6xltD5HwVkr"
      },
      "source": [
        "#Project: Numerical Errors\n",
        "\n",
        "**Abstract**\n",
        "\n",
        "In this assignment we examined the efficiency of code's algorithm for computing the approximated value of the gives series with an appropritate error.The aim of this assignment was to show the nature of the error on graphs."
      ]
    },
    {
      "cell_type": "markdown",
      "metadata": {
        "id": "PvYd0Er0x3rs"
      },
      "source": [
        "**Introduction**\n",
        "\n",
        "In professional spheres , which are related to complex numerical calculations,numerical errors play a crucial role.Numerical errors closely connected to the use of approximations for representation exact mathematical quantities.Numerical Errors can be defined by Round-Off and Truncation Errors.\n",
        "\n",
        "In this assignment we used the formula below for finding our relative errors:\n",
        "\n",
        "\n",
        "$$\\frac{Exact Value - ApproximatedValue}{Exact Value}$$\n",
        "\n"
      ]
    },
    {
      "cell_type": "markdown",
      "metadata": {
        "id": "WgfcRmTm2T2E"
      },
      "source": [
        "**Methods**\n",
        "\n",
        "To begin with, we included necessary libraries such as numpy, matplotlib, math, seaborn, sympy.All these libraries we used for performing various calculations and data visualization like plotting the graph.\n",
        "\n",
        "Then we started to find the exact values for the given function below where **x** will be equal to 0, 0.9, 20.\n",
        "\n",
        "$$f(x) = \\sum\\limits_{k=1}^{\\infty} \\frac{1}{k(k+x)}$$\n",
        "\n",
        "Hence, we divided the task 2 for 3 cases which you can see below. Unfortunately,for finding the exact value we did not use Harmonic number function from Sympy library, but by exploring this library we found another great function which called sympy.Sum(). Using this fuction we found all exact values for each case.\n",
        "The idea behind the used function was in entering the wanted function and dummy variable with boundaries.\n",
        "\n",
        "In our algorithm we used while loop with a conditional \"break statement\" which will alow us to exit the loop when error will be finally mitigated.\n",
        "\n",
        "For the original series the number of iterations and errors were huge, so for this reason I couldn't include all errors and applied seletive concepts with conditional statements.\n",
        "\n",
        "The major problem which was appeared in this assignment was too long exectution time of algorithms for mitigating the error. The problem was an \"abs()\" function(absolute value) which significantly affected code's time complexity. Removing this function increased the efficiency of my algorithm.\n",
        "\n"
      ]
    },
    {
      "cell_type": "code",
      "metadata": {
        "id": "DtLM490foEwz"
      },
      "source": [
        "import numpy as np\n",
        "import matplotlib.pyplot as plt\n",
        "import math as math\n",
        "import seaborn as sns\n",
        "import sympy as sp\n",
        "from sympy.abc import n"
      ],
      "execution_count": null,
      "outputs": []
    },
    {
      "cell_type": "code",
      "metadata": {
        "id": "IieFyHj5fb6b"
      },
      "source": [
        "#for design of graphs\n",
        "sns.set_style('whitegrid')"
      ],
      "execution_count": null,
      "outputs": []
    },
    {
      "cell_type": "markdown",
      "metadata": {
        "id": "vhML-x_eUAIM"
      },
      "source": [
        "**TASK 1**"
      ]
    },
    {
      "cell_type": "markdown",
      "metadata": {
        "id": "owA9-cHqURfO"
      },
      "source": [
        "What is the value of $f(0)$? This result (so called Basel problem) can be obtained analytically. You do not have to prove it, but you can use it as a sanity check.\n"
      ]
    },
    {
      "cell_type": "markdown",
      "metadata": {
        "id": "OKDAZDtAVg8s"
      },
      "source": [
        "Answering to the first quesiton the answer will be 1.644932421915273 which was calculated by the sympy.Sum() function. If we will reference to the Basel problem the answer will be equal to $\\frac{\\pi^2}{6}$. 1.644932421915273 -> this anwer we found by our algorithm."
      ]
    },
    {
      "cell_type": "markdown",
      "metadata": {
        "id": "sExKj1mET6Sc"
      },
      "source": [
        "**TASK 2**\n"
      ]
    },
    {
      "cell_type": "markdown",
      "metadata": {
        "id": "n1nYwrAB6N6R"
      },
      "source": [
        "**CASE #1**\n",
        "\n",
        "x = 0"
      ]
    },
    {
      "cell_type": "code",
      "metadata": {
        "id": "993fH0Frpzpe"
      },
      "source": [
        "exact_value_1 = sp.Sum((1/(n*(n+0))), (n, 1, sp.oo)).evalf()\n",
        "#n --> dummy variable\n",
        "#1 --> starting boundary\n",
        "#sp.oo --> it defines mathemical infinity(ending boundary).Related to Sympy library\n"
      ],
      "execution_count": null,
      "outputs": []
    },
    {
      "cell_type": "code",
      "metadata": {
        "id": "5OePKqBMp23t",
        "colab": {
          "base_uri": "https://localhost:8080/"
        },
        "outputId": "8a24c02d-d9ab-459f-84de-0fdba0c4d180"
      },
      "source": [
        "#x = 0\n",
        "x = 0\n",
        "final_rel_error = 10**(-6)\n",
        "k = 1\n",
        "sum = 0\n",
        "errors = []\n",
        "\n",
        "while True:\n",
        "  sum = sum + 1/(k*(k+x))\n",
        "  cal_rel_error = (exact_value_1 - sum)/exact_value_1\n",
        "  if k % 10000 == 0:\n",
        "    errors.append(cal_rel_error)\n",
        "#for getting 60 relative errors for out graph\n",
        "  if cal_rel_error <= final_rel_error:\n",
        "    break\n",
        "  else:\n",
        "    k = k + 1\n",
        "\n",
        "print(sum)\n",
        "print(k)\n",
        "print(cal_rel_error)\n"
      ],
      "execution_count": null,
      "outputs": [
        {
          "output_type": "stream",
          "text": [
            "1.644932421915273\n",
            "607927\n",
            "9.99999323107118e-7\n"
          ],
          "name": "stdout"
        }
      ]
    },
    {
      "cell_type": "markdown",
      "metadata": {
        "id": "fnBLA9Usr4rO"
      },
      "source": [
        "*  In this case (x = 0), the number of iterations, which is needed for calculation of approximated value with appropriate relative error is 607927.\n",
        "\n",
        "* This execution took 32.646 sec. \n",
        "\n",
        "* The value of the summation of series is 1.644932421915273.\n",
        "\n",
        "* The value of relative error is 9.99999323107118e-7\n"
      ]
    },
    {
      "cell_type": "markdown",
      "metadata": {
        "id": "McdVSeXlqF6q"
      },
      "source": [
        "Overall there are were computed 607927 errors,as with each iteration algorithm calculated the relative error. However on the graph below the number of errors I included is 61. Each error was chosen by conditional line \"if k % 10000 == 0\".\n",
        "This concept for chosing the errors will be applied to all cases\n",
        "\n"
      ]
    },
    {
      "cell_type": "code",
      "metadata": {
        "id": "yjbzMWhg_ZWA"
      },
      "source": [
        "#This is done for giving the final point in graph.This concept will be applied in all cases\n",
        "errors.append(final_rel_error) "
      ],
      "execution_count": null,
      "outputs": []
    },
    {
      "cell_type": "code",
      "metadata": {
        "colab": {
          "base_uri": "https://localhost:8080/",
          "height": 312
        },
        "id": "a9fYVrn_nJxb",
        "outputId": "2287b639-03fd-4a48-80c7-f79a027772ff"
      },
      "source": [
        "x_plot = np.arange(1,62)\n",
        "y_plot = np.array(errors)\n",
        "sns.set_style('whitegrid')\n",
        "\n",
        "plt.plot(x_plot,y_plot,color = 'red',marker = 'o')\n",
        "plt.title(\"Relative Errors Trend\")\n",
        "plt.xlabel('# of Error')\n",
        "plt.ylabel('Value of Error')"
      ],
      "execution_count": null,
      "outputs": [
        {
          "output_type": "execute_result",
          "data": {
            "text/plain": [
              "Text(0, 0.5, 'Value of Error')"
            ]
          },
          "metadata": {
            "tags": []
          },
          "execution_count": 43
        },
        {
          "output_type": "display_data",
          "data": {
            "image/png": "[encoded data removed]",
            "text/plain": [
              "<Figure size 432x288 with 1 Axes>"
            ]
          },
          "metadata": {
            "tags": []
          }
        }
      ]
    },
    {
      "cell_type": "markdown",
      "metadata": {
        "id": "-Oqa8S0G6TfQ"
      },
      "source": [
        "**CASE #2**\n",
        "\n",
        "x = 0.9"
      ]
    },
    {
      "cell_type": "code",
      "metadata": {
        "id": "qO9VJjnuILGA"
      },
      "source": [
        "exact_value_2 = sp.Sum((1/(n*(n+0.9))), (n, 1, sp.oo)).evalf()"
      ],
      "execution_count": null,
      "outputs": []
    },
    {
      "cell_type": "code",
      "metadata": {
        "id": "veDnPwi1VHS5",
        "colab": {
          "base_uri": "https://localhost:8080/"
        },
        "outputId": "a0311dc2-c54f-4fbe-8ce4-b356b349b78f"
      },
      "source": [
        "x = 0.9\n",
        "errors_2 = []\n",
        "final_rel_error = 10**(-6)\n",
        "sum = 0\n",
        "k = 1\n",
        "\n",
        "\n",
        "while True:\n",
        "  sum = sum + 1/(k*(k+x))\n",
        "  cal_rel_error = (exact_value_2 - sum)/exact_value_2\n",
        "  if k % 10000 == 0:\n",
        "    errors_2.append(cal_rel_error)\n",
        "#for getting 96 relative errors for out graph\n",
        "  if cal_rel_error <= final_rel_error:\n",
        "    break\n",
        "  else:\n",
        "    k = k + 1\n",
        "\n",
        "print(sum)\n",
        "print(k)\n",
        "print(cal_rel_error)\n"
      ],
      "execution_count": null,
      "outputs": [
        {
          "output_type": "stream",
          "text": [
            "1.0371098807407306\n",
            "964217\n",
            "9.99999044866251e-7\n"
          ],
          "name": "stdout"
        }
      ]
    },
    {
      "cell_type": "markdown",
      "metadata": {
        "id": "aD-x2AZWX4ah"
      },
      "source": [
        "* In this case (x = 0.9), the number of iteration, which is needed for calculation of approximated value with appropriate relative error is 964217.\n",
        "\n",
        "* This execution took 50.848sec.\n",
        "* The value of the summation of series is 1.0371098807407306\n",
        "*The value of relative error is 9.99999044866251e-7\n"
      ]
    },
    {
      "cell_type": "code",
      "metadata": {
        "id": "YHrHNSQbEyb2"
      },
      "source": [
        "errors_2.append(final_rel_error)"
      ],
      "execution_count": null,
      "outputs": []
    },
    {
      "cell_type": "code",
      "metadata": {
        "colab": {
          "base_uri": "https://localhost:8080/",
          "height": 312
        },
        "id": "lMH5jXoyFVlW",
        "outputId": "13be0a76-7a81-4690-d1af-8f171a8f9d81"
      },
      "source": [
        "x2_plot = np.arange(1,98)\n",
        "y2_plot = np.array(errors_2)\n",
        "\n",
        "plt.plot(x2_plot,y2_plot,color = 'red',marker = 'o')\n",
        "plt.title(\"Relative Errors Trend\")\n",
        "plt.xlabel('# of Error')\n",
        "plt.ylabel('Value of Errors')"
      ],
      "execution_count": null,
      "outputs": [
        {
          "output_type": "execute_result",
          "data": {
            "text/plain": [
              "Text(0, 0.5, 'Value of Errors')"
            ]
          },
          "metadata": {
            "tags": []
          },
          "execution_count": 47
        },
        {
          "output_type": "display_data",
          "data": {
            "image/png": "[encoded data removed]",
            "text/plain": [
              "<Figure size 432x288 with 1 Axes>"
            ]
          },
          "metadata": {
            "tags": []
          }
        }
      ]
    },
    {
      "cell_type": "markdown",
      "metadata": {
        "id": "XUDoFwfE6V94"
      },
      "source": [
        "**CASE #3**\n",
        "\n",
        "x = 20"
      ]
    },
    {
      "cell_type": "code",
      "metadata": {
        "id": "Ssf-SEsFdJ5X"
      },
      "source": [
        "#exact_value for x = 20\n",
        "exact_value_3 = sp.Sum((1/(n*(n+20))), (n, 1, sp.oo)).evalf()"
      ],
      "execution_count": null,
      "outputs": []
    },
    {
      "cell_type": "code",
      "metadata": {
        "id": "NwnCsonuTDoL",
        "colab": {
          "base_uri": "https://localhost:8080/"
        },
        "outputId": "f7fe35d9-e195-4df9-a10b-3b7156f1c73d"
      },
      "source": [
        "x = 20\n",
        "errors_3 = []\n",
        "final_rel_error = 10**(-6)\n",
        "sum = 0\n",
        "k = 1\n",
        "\n",
        "while True:\n",
        "  sum = sum + 1/(k*(k+x))\n",
        "  cal_rel_error = (exact_value_3 - sum)/exact_value_3\n",
        "  if k % 55500 == 0:\n",
        "    errors_3.append(cal_rel_error)\n",
        "#for getting 100 relative errors for our graph\n",
        "  if cal_rel_error <= final_rel_error:\n",
        "    break\n",
        "  else:\n",
        "    k = k + 1\n",
        "    \n",
        "print(sum)\n",
        "print(k)\n",
        "print(cal_rel_error)"
      ],
      "execution_count": null,
      "outputs": [
        {
          "output_type": "stream",
          "text": [
            "0.179886802970232\n",
            "5559036\n",
            "9.99999829085594e-7\n"
          ],
          "name": "stdout"
        }
      ]
    },
    {
      "cell_type": "markdown",
      "metadata": {
        "id": "l_WHJD2WobzH"
      },
      "source": [
        "* For this case(x = 20) the number of iteration, which is needed for calculation of approximated value with appropriate relative error is 5559036.\n",
        "* This execution took 287.764 sec. The value of the summation of series is 0.179886802970232 \n",
        "* The value of relative error is 9.99999829085594e-7"
      ]
    },
    {
      "cell_type": "code",
      "metadata": {
        "id": "5xQGQn-tIZLO"
      },
      "source": [
        "errors_3.append(final_rel_error)"
      ],
      "execution_count": null,
      "outputs": []
    },
    {
      "cell_type": "code",
      "metadata": {
        "colab": {
          "base_uri": "https://localhost:8080/",
          "height": 312
        },
        "id": "Zo0_mrNBIg6d",
        "outputId": "58a9d15a-bd60-4136-c242-80a58d2448d1"
      },
      "source": [
        "x3_plot = np.arange(1,102)\n",
        "y3_plot = np.array(errors_3)\n",
        "\n",
        "plt.plot(x3_plot,y3_plot,color = 'red',marker = 'o')\n",
        "plt.title(\"Relative Errors Trend\")\n",
        "plt.xlabel('# of Error')\n",
        "plt.ylabel('Value of Errors')"
      ],
      "execution_count": null,
      "outputs": [
        {
          "output_type": "execute_result",
          "data": {
            "text/plain": [
              "Text(0, 0.5, 'Value of Errors')"
            ]
          },
          "metadata": {
            "tags": []
          },
          "execution_count": 17
        },
        {
          "output_type": "display_data",
          "data": {
            "image/png": "[encoded data removed]",
            "text/plain": [
              "<Figure size 432x288 with 1 Axes>"
            ]
          },
          "metadata": {
            "tags": []
          }
        }
      ]
    },
    {
      "cell_type": "markdown",
      "metadata": {
        "id": "koyqVoldKmit"
      },
      "source": [
        "**Conclusion for Task 2**\n",
        "\n",
        "For all 3 plotted graphs the trend seems the same with a pattern of exponential decay. For the very first iterations the relative error is huge, but then it abruptly decresed. Our algorithm with each iteration mitigate the error and as a result gives us the appropriate relative error which is smaller than $\\varepsilon=10^{-6}$"
      ]
    },
    {
      "cell_type": "markdown",
      "metadata": {
        "id": "OC5pm7wg6YnH"
      },
      "source": [
        "**TASK 3**"
      ]
    },
    {
      "cell_type": "markdown",
      "metadata": {
        "id": "OJdkCcn8VDDG"
      },
      "source": [
        "Now use the relation $$\\frac{1}{k(k+1)}=\\frac{1}{k}-\\frac{1}{k+1}$$ to prove that $f(1)=1$. Then represent $f(x)-f(1)$ as a series that converges faster than the original series. To illustrate that, repeat the same task as in part (2), namely count the number of terms that need to be included and plot the relative error.\n"
      ]
    },
    {
      "cell_type": "markdown",
      "metadata": {
        "id": "AEmoR2jLnA1G"
      },
      "source": [
        "The $f(1)=1$ is a telescoping series and can be written in the following way."
      ]
    },
    {
      "cell_type": "markdown",
      "metadata": {
        "id": "2n3ks_c1j6aF"
      },
      "source": [
        "\n",
        "\n",
        "$$\\frac{1}{k(k+1)}=\\frac{1}{k}-\\frac{1}{k+1} = ({1}-\\frac{1}{2}) + (\\frac{1}{2}-\\frac{1}{3})+(\\frac{1}{3}-\\frac{1}{4})+(\\frac{1}{4}-\\frac{1}{5})+(\\frac{1}{5}-\\frac{1}{6})$$\n",
        "\n"
      ]
    },
    {
      "cell_type": "markdown",
      "metadata": {
        "id": "RwKhHjjVnWeZ"
      },
      "source": [
        "Here we can note that after first number which is 1, the values can cancel each other until the infinty and that will give us 0. \n",
        "\n",
        "So the solution can be written in the following way $f(1)=1 \\pm0 = 1$"
      ]
    },
    {
      "cell_type": "markdown",
      "metadata": {
        "id": "LtHLBTikpyeU"
      },
      "source": [
        ""
      ]
    },
    {
      "cell_type": "markdown",
      "metadata": {
        "id": "V1ym_xPyf4gW"
      },
      "source": [
        "**CASE 1** (New Series)\n",
        "\n",
        "x = 0.0"
      ]
    },
    {
      "cell_type": "code",
      "metadata": {
        "id": "ZheHgxWgawV7"
      },
      "source": [
        "exact_value_4 = sp.Sum((1/(n*(n+0))-1/(n*(n+1))), (n, 1, sp.oo)).evalf()"
      ],
      "execution_count": null,
      "outputs": []
    },
    {
      "cell_type": "code",
      "metadata": {
        "colab": {
          "base_uri": "https://localhost:8080/"
        },
        "id": "jPp_PVNwahpr",
        "outputId": "ae24a863-2d77-4087-b1ab-1d2f5d93c951"
      },
      "source": [
        "x = 0\n",
        "final_rel_error = 10**(-6)\n",
        "k = 1\n",
        "sum = 0\n",
        "errors_4 = []\n",
        "\n",
        "while True:\n",
        "  sum = sum + 1/(k*(k+x)) - 1/(k*(k+1))\n",
        "  cal_rel_error = (exact_value_4 - sum)/exact_value_4\n",
        "  if k % 8 == 0:\n",
        "    errors_4.append(cal_rel_error)\n",
        "#for getting 110 relative errors for our graph\n",
        "  if cal_rel_error <= final_rel_error:\n",
        "    break\n",
        "  else:\n",
        "    k = k + 1\n",
        "\n",
        "print(sum)\n",
        "print(k)\n",
        "print(cal_rel_error)"
      ],
      "execution_count": null,
      "outputs": [
        {
          "output_type": "stream",
          "text": [
            "0.644933422408244\n",
            "880\n",
            "9.99233899253163e-7\n"
          ],
          "name": "stdout"
        }
      ]
    },
    {
      "cell_type": "code",
      "metadata": {
        "id": "jUjFuVsEe6T2"
      },
      "source": [
        "errors_4.append(final_rel_error)"
      ],
      "execution_count": null,
      "outputs": []
    },
    {
      "cell_type": "code",
      "metadata": {
        "colab": {
          "base_uri": "https://localhost:8080/",
          "height": 312
        },
        "id": "4Asp4_UHeSLc",
        "outputId": "21697c61-816c-4d80-d609-5cf3e451860f"
      },
      "source": [
        "x4_plot = np.arange(1,112)\n",
        "y4_plot = np.array(errors_4)\n",
        "\n",
        "plt.plot(x4_plot,y4_plot,color = 'red',marker = 'o')\n",
        "plt.title(\"Relative Errors Trend\")\n",
        "plt.xlabel('# of Error')\n",
        "plt.ylabel('Value of Errors')"
      ],
      "execution_count": null,
      "outputs": [
        {
          "output_type": "execute_result",
          "data": {
            "text/plain": [
              "Text(0, 0.5, 'Value of Errors')"
            ]
          },
          "metadata": {
            "tags": []
          },
          "execution_count": 17
        },
        {
          "output_type": "display_data",
          "data": {
            "image/png": "[encoded data removed]",
            "text/plain": [
              "<Figure size 432x288 with 1 Axes>"
            ]
          },
          "metadata": {
            "tags": []
          }
        }
      ]
    },
    {
      "cell_type": "markdown",
      "metadata": {
        "id": "eTep4IKYgAMa"
      },
      "source": [
        "**CASE 2** (New Series)\n",
        "\n",
        "x = 0.9"
      ]
    },
    {
      "cell_type": "code",
      "metadata": {
        "id": "dP_H4NXVeSCr"
      },
      "source": [
        "exact_value_5 = sp.Sum((1/(n*(n+0.9))-1/(n*(n+1))), (n, 1, sp.oo)).evalf()"
      ],
      "execution_count": null,
      "outputs": []
    },
    {
      "cell_type": "code",
      "metadata": {
        "colab": {
          "base_uri": "https://localhost:8080/"
        },
        "id": "ojbMwgvNeR5b",
        "outputId": "a09b6ae0-72fa-4b6f-b46e-a0f474636d85"
      },
      "source": [
        "x = 0.9\n",
        "final_rel_error = 10**(-6)\n",
        "k = 1\n",
        "sum = 0\n",
        "errors_5 = []\n",
        "\n",
        "while True:\n",
        "  sum = sum + 1/(k*(k+x)) - 1/(k*(k+1))\n",
        "  cal_rel_error = (exact_value_5 - sum)/exact_value_5\n",
        "  if k % 11 == 0:\n",
        "    errors_5.append(cal_rel_error)\n",
        "#for getting 105 relative errors for our graph\n",
        "  if cal_rel_error <= final_rel_error:\n",
        "    break\n",
        "  else:\n",
        "    k = k + 1\n",
        "\n",
        "print(sum)\n",
        "print(k)\n",
        "print(cal_rel_error)"
      ],
      "execution_count": null,
      "outputs": [
        {
          "output_type": "stream",
          "text": [
            "0.03711088076501771\n",
            "1160\n",
            "9.99318874992219e-7\n"
          ],
          "name": "stdout"
        }
      ]
    },
    {
      "cell_type": "code",
      "metadata": {
        "id": "Law_SfypeRrO"
      },
      "source": [
        "errors_5.append(final_rel_error)"
      ],
      "execution_count": null,
      "outputs": []
    },
    {
      "cell_type": "code",
      "metadata": {
        "colab": {
          "base_uri": "https://localhost:8080/",
          "height": 312
        },
        "id": "K4rDGFYOhR0v",
        "outputId": "eca99688-cd98-4f4d-b117-c0343f1f4efb"
      },
      "source": [
        "x5_plot = np.arange(1,107)\n",
        "y5_plot = np.array(errors_5)\n",
        "\n",
        "plt.plot(x5_plot,y5_plot,color = 'red',marker = 'o')\n",
        "plt.title(\"Relative Errors Trend\")\n",
        "plt.xlabel('# of Error')\n",
        "plt.ylabel('Value of Errors')"
      ],
      "execution_count": null,
      "outputs": [
        {
          "output_type": "execute_result",
          "data": {
            "text/plain": [
              "Text(0, 0.5, 'Value of Errors')"
            ]
          },
          "metadata": {
            "tags": []
          },
          "execution_count": 30
        },
        {
          "output_type": "display_data",
          "data": {
            "image/png": "[encoded data removed]",
            "text/plain": [
              "<Figure size 432x288 with 1 Axes>"
            ]
          },
          "metadata": {
            "tags": []
          }
        }
      ]
    },
    {
      "cell_type": "markdown",
      "metadata": {
        "id": "2jVzlVeUhj2r"
      },
      "source": [
        "**CASE 3** (New Series)\n",
        "\n",
        "x = 20"
      ]
    },
    {
      "cell_type": "code",
      "metadata": {
        "id": "T0Bz3mgrhmkc"
      },
      "source": [
        "exact_value_6 = sp.Sum((1/(n*(n+20))-1/(n*(n+1))), (n, 1, sp.oo)).evalf()"
      ],
      "execution_count": null,
      "outputs": []
    },
    {
      "cell_type": "code",
      "metadata": {
        "colab": {
          "base_uri": "https://localhost:8080/"
        },
        "id": "sUm8Or3-hmbw",
        "outputId": "18dd6adc-bf2c-43d9-8565-2fa8c899584a"
      },
      "source": [
        "x = 20\n",
        "final_rel_error = 10**(-6)\n",
        "k = 1\n",
        "sum = 0\n",
        "errors_6 = []\n",
        "\n",
        "while True:\n",
        "  sum = sum + 1/(k*(k+x)) - 1/(k*(k+1))\n",
        "  cal_rel_error = (exact_value_6 - sum)/exact_value_6\n",
        "  if k % 33 == 0:\n",
        "    errors_6.append(cal_rel_error)\n",
        "#for getting 102 relative errors for our graph\n",
        "  if cal_rel_error <= final_rel_error:\n",
        "    break\n",
        "  else:\n",
        "    k = k + 1\n",
        "\n",
        "print(sum)\n",
        "print(k)\n",
        "print(cal_rel_error)"
      ],
      "execution_count": null,
      "outputs": [
        {
          "output_type": "stream",
          "text": [
            "-0.8201121975100794\n",
            "3397\n",
            "9.99414372699640e-7\n"
          ],
          "name": "stdout"
        }
      ]
    },
    {
      "cell_type": "code",
      "metadata": {
        "id": "-lBnMhUghmSh"
      },
      "source": [
        "errors_6.append(final_rel_error)"
      ],
      "execution_count": null,
      "outputs": []
    },
    {
      "cell_type": "code",
      "metadata": {
        "colab": {
          "base_uri": "https://localhost:8080/",
          "height": 312
        },
        "id": "DIiE8zFshmCR",
        "outputId": "a3d54fa9-b422-4d19-97e4-3a4327868a44"
      },
      "source": [
        "x6_plot = np.arange(1,104)\n",
        "y6_plot = np.array(errors_6)\n",
        "\n",
        "plt.plot(x6_plot,y6_plot,color = 'red',marker = 'o')\n",
        "plt.title(\"Relative Errors Trend\")\n",
        "plt.xlabel('# of Error')\n",
        "plt.ylabel('Value of Errors')"
      ],
      "execution_count": null,
      "outputs": [
        {
          "output_type": "execute_result",
          "data": {
            "text/plain": [
              "Text(0, 0.5, 'Value of Errors')"
            ]
          },
          "metadata": {
            "tags": []
          },
          "execution_count": 34
        },
        {
          "output_type": "display_data",
          "data": {
            "image/png": "[encoded data removed]",
            "text/plain": [
              "<Figure size 432x288 with 1 Axes>"
            ]
          },
          "metadata": {
            "tags": []
          }
        }
      ]
    },
    {
      "cell_type": "markdown",
      "metadata": {
        "id": "s32oyPbsdHPz"
      },
      "source": [
        "**Conclusion for Task 3**\n",
        "\n",
        "Comparing to the original series where for x = 0, 0.9, 20 execution of code tooks 32.646 sec,50.848 sec and 287.764 sec respectively, the execution of this series tooks only 0.892 sec, 0.768 sec and 0.823 sec. So it can be stated that $f(x)-f(1)$ as a series converges significantly faster than the original series.\n",
        "*Курсив*"
      ]
    }
  ]
}