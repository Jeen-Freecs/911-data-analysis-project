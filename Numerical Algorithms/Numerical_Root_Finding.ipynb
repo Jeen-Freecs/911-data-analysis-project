{
  "nbformat": 4,
  "nbformat_minor": 0,
  "metadata": {
    "colab": {
      "name": "Numerical Root Finding.ipynb",
      "provenance": [],
      "authorship_tag": "ABX9TyO5IToZlcedM5XEWVw/fR00",
      "include_colab_link": true
    },
    "kernelspec": {
      "name": "python3",
      "display_name": "Python 3"
    }
  },
  "cells": [
    {
      "cell_type": "markdown",
      "metadata": {
        "id": "view-in-github",
        "colab_type": "text"
      },
      "source": [
        "<a href=\"https://colab.research.google.com/github/Jeen-Freecs/DS_Pet_Projects/blob/main/Numerical%20Algorithms/Numerical_Root_Finding.ipynb\" target=\"_parent\"><img src=\"https://colab.research.google.com/assets/colab-badge.svg\" alt=\"Open In Colab\"/></a>"
      ]
    },
    {
      "cell_type": "markdown",
      "metadata": {
        "id": "LwDVMMhzBFy4"
      },
      "source": [
        "## Project: Numerical root finding"
      ]
    },
    {
      "cell_type": "markdown",
      "metadata": {
        "id": "qZ7AFy7RRsZ7"
      },
      "source": [
        "**Abstract**\n",
        "\n",
        "In this assignment, we examined 3 types of Numerical Root finding methods, which were False-Position, Newton-Raphson and Secant methods. False-Position Method is the type of Bracketing methods, while the Newton-Raphson and Secant methods are the types of Open methods.\n",
        "\n",
        "\n",
        "\n"
      ]
    },
    {
      "cell_type": "markdown",
      "metadata": {
        "id": "dHuFd8lfRpJA"
      },
      "source": [
        "**Introduction**\n",
        "\n",
        "It is known that Bracketing Methods, comparing to Open Methods, are relatively slow in computations, but the results in Bracketing methods are more reliable.So we would expect such patterns in our assessment of methods.\n",
        "\n",
        "The whole focus was on assessing the efficiency of each method in finding the root of the following equation.\n",
        "\n",
        " $$\\\\v=\\frac{gm}{c}(1-e^{−(c/m)t})$$\n",
        "\n",
        "*  $g = 9.8$ m/s$^2$\n",
        "*  $c = 15$ kg/s\n",
        "*  $v = 35$ m/s\n",
        "*  $t = 9$ s\n",
        "\n",
        "For a further working with this eqution we should rewrite this function into the form of $f(m) = 0$ :\n",
        "\n",
        "$$\\frac{9.8m}{15}(1-e^{−(135/m)})-35 = 0$$\n",
        "\n",
        "It is also important for us to find the derivative of this function for further calculations:\n",
        "\n",
        "$$\\frac{9.8}{15}(1-e^{−(135/m)}-\\frac{135e^{−(135/m)}}{m})$$\n"
      ]
    },
    {
      "cell_type": "markdown",
      "metadata": {
        "id": "4-ZLiZdjRvlr"
      },
      "source": [
        "**Main Body**\n"
      ]
    },
    {
      "cell_type": "code",
      "metadata": {
        "id": "SFU9i4cvAqyT"
      },
      "source": [
        "#necessary libraries\n",
        "import numpy as np\n",
        "import matplotlib.pyplot as plt\n",
        "%matplotlib inline"
      ],
      "execution_count": null,
      "outputs": []
    },
    {
      "cell_type": "code",
      "metadata": {
        "id": "S3Rhvn5NB0Gx"
      },
      "source": [
        "#assigning of functions\n",
        "def f(m):\n",
        "  v = 35\n",
        "  return ((9.8*m)/15)*(1-np.exp(-(135/m))) - v\n",
        "\n",
        "def df(m):\n",
        "  return (9.8/15)*(1-np.exp(-135/m)-(135*np.exp(-135/m))/m)\n",
        "\n",
        "estimate_error = 1e-12\n",
        "imax = 100"
      ],
      "execution_count": null,
      "outputs": []
    },
    {
      "cell_type": "markdown",
      "metadata": {
        "id": "ZObosyZvIf0O"
      },
      "source": [
        "**Task 1**: \n",
        "Graphical approach"
      ]
    },
    {
      "cell_type": "code",
      "metadata": {
        "colab": {
          "base_uri": "https://localhost:8080/",
          "height": 299
        },
        "id": "zDKiRXZaG0v4",
        "outputId": "a08d1181-c7bf-47fd-a52a-9e0b5d5228db"
      },
      "source": [
        "m = np.arange(0, 100, 10)\n",
        "plt.grid()\n",
        "plt.plot(m,f(m),marker = 'o', markersize = 3)\n",
        "plt.show()"
      ],
      "execution_count": null,
      "outputs": [
        {
          "output_type": "stream",
          "text": [
            "/usr/local/lib/python3.6/dist-packages/ipykernel_launcher.py:3: RuntimeWarning: divide by zero encountered in true_divide\n",
            "  This is separate from the ipykernel package so we can avoid doing imports until\n"
          ],
          "name": "stderr"
        },
        {
          "output_type": "display_data",
          "data": {
            "image/png": "[encoded data removed]",
            "text/plain": [
              "<Figure size 432x288 with 1 Axes>"
            ]
          },
          "metadata": {
            "tags": [],
            "needs_background": "light"
          }
        }
      ]
    },
    {
      "cell_type": "markdown",
      "metadata": {
        "id": "YEMtAduPIMj1"
      },
      "source": [
        "Through the graphical approach we can assume that root of the function will be around 60kg."
      ]
    },
    {
      "cell_type": "markdown",
      "metadata": {
        "id": "CI0ZedBHIiMB"
      },
      "source": [
        "**Task 2**: False-Position Method"
      ]
    },
    {
      "cell_type": "code",
      "metadata": {
        "id": "fRmSo__TIjPb"
      },
      "source": [
        "def falsepos(ml, mu, es, imax):\n",
        "  mr = mu\n",
        "  m = []\n",
        "  errors = []\n",
        "  iter = []\n",
        "  for i in range(imax):\n",
        "    mr_old = mr\n",
        "    mr = mu - (f(mu)*(ml-mu))/(f(ml)-f(mu))\n",
        "    if (mr != 0.0):\n",
        "      ea = abs((mr - mr_old)/mr)*100\n",
        "    iter.append(i)\n",
        "    m.append(mr)\n",
        "    errors.append(ea)\n",
        "    test = f(ml)*f(mr)\n",
        "    if (test < 0.0):\n",
        "      mu = mr\n",
        "    elif (test > 0.0):\n",
        "      ml = mr\n",
        "    else:\n",
        "      ea = 0.0\n",
        "    if (ea < es):\n",
        "      break\n",
        "  return iter, m, errors"
      ],
      "execution_count": null,
      "outputs": []
    },
    {
      "cell_type": "code",
      "metadata": {
        "colab": {
          "base_uri": "https://localhost:8080/",
          "height": 279
        },
        "id": "CbpmsSzIGywE",
        "outputId": "2bff466c-b58e-4a84-fe79-431f0de12ce7"
      },
      "source": [
        "i1,m1,e1 = falsepos(50,70,estimate_error,imax)\n",
        "\n",
        "plt.plot(i1,e1, label = 'Falsepos')\n",
        "\n",
        "plt.legend()\n",
        "plt.xlabel('Iteration number')\n",
        "plt.ylabel('Error')\n",
        "plt.yscale('log')\n",
        "plt.grid()\n",
        "plt.show()"
      ],
      "execution_count": null,
      "outputs": [
        {
          "output_type": "display_data",
          "data": {
            "image/png": "[encoded data removed]",
            "text/plain": [
              "<Figure size 432x288 with 1 Axes>"
            ]
          },
          "metadata": {
            "tags": [],
            "needs_background": "light"
          }
        }
      ]
    },
    {
      "cell_type": "code",
      "metadata": {
        "colab": {
          "base_uri": "https://localhost:8080/"
        },
        "id": "NE49SHcZl4dt",
        "outputId": "c957d5a9-3029-4771-9b4c-b67ccebb75c9"
      },
      "source": [
        "print(m1)"
      ],
      "execution_count": null,
      "outputs": [
        {
          "output_type": "stream",
          "text": [
            "[60.51423018797449, 59.88461306536265, 59.843859432951454, 59.84122656643693, 59.84105649267782, 59.84104550660973, 59.841044796955096, 59.841044751114346, 59.84104474815323, 59.84104474796195, 59.84104474794958, 59.84104474794879, 59.84104474794874]\n"
          ],
          "name": "stdout"
        }
      ]
    },
    {
      "cell_type": "markdown",
      "metadata": {
        "id": "h2HTF9ZMc9iw"
      },
      "source": [
        "**Task 3**: The Newton-Raphson Method"
      ]
    },
    {
      "cell_type": "code",
      "metadata": {
        "id": "iyh-u2q_bcc3"
      },
      "source": [
        "def nr(m0,estimate_error,imax):\n",
        "  mr=m0\n",
        "  m=[]\n",
        "  errors=[]\n",
        "  iter=[]\n",
        "  for i in range(imax):\n",
        "    mr_old=mr\n",
        "    mr = mr_old - f(mr_old)/df(mr_old)\n",
        "    if(mr!=0):\n",
        "      ea = abs((mr-mr_old)/mr)*100\n",
        "    iter.append(i)\n",
        "    m.append(mr)\n",
        "    errors.append(ea)\n",
        "    if(ea < es):\n",
        "      break\n",
        "  return iter,m,errors"
      ],
      "execution_count": null,
      "outputs": []
    },
    {
      "cell_type": "code",
      "metadata": {
        "colab": {
          "base_uri": "https://localhost:8080/",
          "height": 279
        },
        "id": "I32wvpb2hmKv",
        "outputId": "ab95f721-e418-46d5-ec73-9ccbf75a92ef"
      },
      "source": [
        "i2,m2,e2 = nr(50,estimate_error,imax)\n",
        "\n",
        "plt.plot(i2,e2, label = 'NR')\n",
        "\n",
        "plt.legend()\n",
        "plt.xlabel('Iteration number')\n",
        "plt.ylabel('Error')\n",
        "plt.yscale('log')\n",
        "plt.grid()\n",
        "plt.show()"
      ],
      "execution_count": null,
      "outputs": [
        {
          "output_type": "display_data",
          "data": {
            "image/png": "[encoded data removed]",
            "text/plain": [
              "<Figure size 432x288 with 1 Axes>"
            ]
          },
          "metadata": {
            "tags": [],
            "needs_background": "light"
          }
        }
      ]
    },
    {
      "cell_type": "code",
      "metadata": {
        "colab": {
          "base_uri": "https://localhost:8080/"
        },
        "id": "CM4jAFJRlpzZ",
        "outputId": "38237413-91e2-4b0a-b49d-e3fd64093faa"
      },
      "source": [
        "print(m2)"
      ],
      "execution_count": null,
      "outputs": [
        {
          "output_type": "stream",
          "text": [
            "[59.22579374493676, 59.838493375300544, 59.841044703931196, 59.841044747948736, 59.84104474794875]\n"
          ],
          "name": "stdout"
        }
      ]
    },
    {
      "cell_type": "markdown",
      "metadata": {
        "id": "awu0FrN7iHNG"
      },
      "source": [
        "**Task 4**: The Secant Method"
      ]
    },
    {
      "cell_type": "code",
      "metadata": {
        "id": "WeY7KKxQh6L-"
      },
      "source": [
        "def secant(m0,m1,estimate_error,imax):\n",
        "  m=[]\n",
        "  errors=[]\n",
        "  iter=[];\n",
        "\n",
        "  for i in range(imax):\n",
        "    if f(m1) - f(m0) == 0:\n",
        "      return m1\n",
        "    mr=m1 - (f(m1)*(m1-m0)*1.0)/(f(m1)-f(m0))\n",
        "    m0=m1\n",
        "    m1=mr\n",
        "    if (mr!=0):\n",
        "      ea = abs((mr-m0)/mr)*100\n",
        "    iter.append(i)\n",
        "    m.append(mr)\n",
        "    errors.append(ea)\n",
        "    if(ea < es):\n",
        "      break\n",
        "  return iter,m,errors"
      ],
      "execution_count": null,
      "outputs": []
    },
    {
      "cell_type": "code",
      "metadata": {
        "colab": {
          "base_uri": "https://localhost:8080/",
          "height": 279
        },
        "id": "AWfT42g9kFzw",
        "outputId": "19c112f6-5d10-4352-bef8-dcc35f7feef2"
      },
      "source": [
        "i3,m3,e3 = secant(50,70,estimate_error,imax)\n",
        "\n",
        "plt.plot(i3,e3, label = 'Secant')\n",
        "\n",
        "plt.legend()\n",
        "plt.xlabel('Iteration number')\n",
        "plt.ylabel('Error')\n",
        "plt.yscale('log')\n",
        "plt.grid()\n",
        "plt.show()"
      ],
      "execution_count": null,
      "outputs": [
        {
          "output_type": "display_data",
          "data": {
            "image/png": "[encoded data removed]",
            "text/plain": [
              "<Figure size 432x288 with 1 Axes>"
            ]
          },
          "metadata": {
            "tags": [],
            "needs_background": "light"
          }
        }
      ]
    },
    {
      "cell_type": "code",
      "metadata": {
        "colab": {
          "base_uri": "https://localhost:8080/"
        },
        "id": "zVD2eCnElZq5",
        "outputId": "24d9970e-5b2d-4a7c-dc33-bcbc576952fe"
      },
      "source": [
        "print(m3)"
      ],
      "execution_count": null,
      "outputs": [
        {
          "output_type": "stream",
          "text": [
            "[60.51423018797449, 59.79363233296128, 59.841260927771586, 59.84104481724939, 59.841044747948644, 59.84104474794873]\n"
          ],
          "name": "stdout"
        }
      ]
    },
    {
      "cell_type": "markdown",
      "metadata": {
        "id": "me8Z4n-kmAg9"
      },
      "source": [
        "**Task 5**: Plot of the Total Error as a function of Iterations (all 3 methods)"
      ]
    },
    {
      "cell_type": "code",
      "metadata": {
        "colab": {
          "base_uri": "https://localhost:8080/",
          "height": 279
        },
        "id": "E8HEjaPwmCS4",
        "outputId": "5632e06a-75f9-4aeb-9c14-49b585bdfa53"
      },
      "source": [
        "plt.plot(i1,e1, label = 'False-Position',marker = 'o', markersize = 3)\n",
        "plt.plot(i2,e2, label = 'NR',marker = 'o', markersize = 3)\n",
        "plt.plot(i3,e3, label = 'Secant',marker = 'o', markersize = 3)\n",
        "\n",
        "plt.legend()\n",
        "plt.xlabel('Iteration number')\n",
        "plt.ylabel('Error')\n",
        "plt.yscale('log')\n",
        "plt.grid()\n",
        "plt.show()"
      ],
      "execution_count": null,
      "outputs": [
        {
          "output_type": "display_data",
          "data": {
            "image/png": "[encoded data removed]",
            "text/plain": [
              "<Figure size 432x288 with 1 Axes>"
            ]
          },
          "metadata": {
            "tags": [],
            "needs_background": "light"
          }
        }
      ]
    },
    {
      "cell_type": "markdown",
      "metadata": {
        "id": "GUvjRG2R6xra"
      },
      "source": [
        "Analyzing this plot, we can say that False-Position method has **linear convergence**, while both Newton - Raphson and Secant methods has **quadratic convergence**."
      ]
    },
    {
      "cell_type": "markdown",
      "metadata": {
        "id": "rKG0o1RZm6Nz"
      },
      "source": [
        "**Task 6**: Max. Precision"
      ]
    },
    {
      "cell_type": "code",
      "metadata": {
        "colab": {
          "base_uri": "https://localhost:8080/"
        },
        "id": "5usxuePyI-jd",
        "outputId": "bf0ba692-e80d-4c16-a38a-54f9a6db85fa"
      },
      "source": [
        "print(e1)\n",
        "print(e2)\n",
        "print(e3)\n"
      ],
      "execution_count": null,
      "outputs": [
        {
          "output_type": "stream",
          "text": [
            "[15.675271390811712, 1.0513838035901275, 0.06809994007297593, 0.004399753590614093, 0.0002842091518366597, 1.8358750248753456e-05, 1.1858994740282517e-06, 7.660419374920341e-08, 4.9483023056645836e-09, 3.19643658081577e-10, 2.0672348020807596e-11, 1.3179957669785604e-12, 8.31168501698192e-14]\n",
            "[15.577323935359628, 1.0239222209707046, 0.004263509508022322, 7.355743874575943e-08, 2.3747671477091195e-14]\n",
            "[15.675271390811712, 1.2051414622221908, 0.07959156286461475, 0.0003611409574412028, 1.1580804908504773e-07, 1.4248602886254722e-13]\n"
          ],
          "name": "stdout"
        }
      ]
    },
    {
      "cell_type": "markdown",
      "metadata": {
        "id": "2LMZI7iAInt1"
      },
      "source": [
        "Here are the list of all 3 methods and their final error values.\n",
        "\n",
        "\n",
        "*   The False - Position Method: 8.31168501698192e-14\n",
        "*   The Newton-Raphson Method: 2.3747671477091195e-14\n",
        "*   The Secant Method: 1.4248602886254722e-13\n",
        "\n",
        "From these calculated results, it can be said that beside of being the type of Open Methods, the  Newton-Raphson method has the greatest precision.\n",
        "\n"
      ]
    },
    {
      "cell_type": "markdown",
      "metadata": {
        "id": "ixqTXoXtNHB8"
      },
      "source": [
        "\n",
        "\n",
        "```\n",
        "# Выбран кодовый формат\n",
        "```\n",
        "\n",
        "**Task 7**: Time Efficiency\n",
        "\n",
        "From the plot above, by looking at number of iterations were made, it can be stated that the Newton-Raphson Method is the fastest method for finding the root of this equation with the estimate error.\n",
        "\n",
        "However we also can analyze each method by %timeit funciton, which will show us the best runtime of a cell."
      ]
    },
    {
      "cell_type": "code",
      "metadata": {
        "colab": {
          "base_uri": "https://localhost:8080/"
        },
        "id": "ko5yFwUiLHup",
        "outputId": "979cfe37-231a-4db7-fdd6-1ac0e13ad85d"
      },
      "source": [
        "%timeit i1,m1,e1 = falsepos(50,70,estimate_error,imax)"
      ],
      "execution_count": null,
      "outputs": [
        {
          "output_type": "stream",
          "text": [
            "10000 loops, best of 3: 193 µs per loop\n"
          ],
          "name": "stdout"
        }
      ]
    },
    {
      "cell_type": "code",
      "metadata": {
        "colab": {
          "base_uri": "https://localhost:8080/"
        },
        "id": "TQ__unM6MPpG",
        "outputId": "1e04e77e-ba30-4a93-e76e-7009f9d2eab8"
      },
      "source": [
        "%timeit i2,m2,e2 = nr(50,estimate_error,imax)"
      ],
      "execution_count": null,
      "outputs": [
        {
          "output_type": "stream",
          "text": [
            "10000 loops, best of 3: 44.1 µs per loop\n"
          ],
          "name": "stdout"
        }
      ]
    },
    {
      "cell_type": "code",
      "metadata": {
        "colab": {
          "base_uri": "https://localhost:8080/"
        },
        "id": "6i4ueCv8MTtE",
        "outputId": "c97c7eef-78c9-4a8b-84f1-8c2751723a8a"
      },
      "source": [
        "%timeit i3,m3,e3 = secant(50,70,estimate_error,imax)"
      ],
      "execution_count": null,
      "outputs": [
        {
          "output_type": "stream",
          "text": [
            "10000 loops, best of 3: 97.1 µs per loop\n"
          ],
          "name": "stdout"
        }
      ]
    },
    {
      "cell_type": "markdown",
      "metadata": {
        "id": "whYwlA9OPu59"
      },
      "source": [
        "By looking at the results of %timeit function, we can see that runtime of Newton-Raphson Method is approximately 4 times smaller than the runtime of False-Position Method and 2 times smaller than the runtime of Secant Method.Thus, makes the Newton-Raphson Method the fastest one."
      ]
    },
    {
      "cell_type": "markdown",
      "metadata": {
        "id": "Rsuc4QITR2Y1"
      },
      "source": [
        "**Conclusion**\n",
        "\n",
        "Comparing the features of each Method,especially in the plot,the Newton-Raphson Method is the most efficient way of finding the root of this equation, as it has the greatest precision and the smallest runtime.As we mentionded before in introduction, the Open methods' runtime is faster than the runtime of Bracketing Methods and we proved this in our assignment. However what we did not expect is the highest precision in the Newton-Raphson Method, as we have the False-Position method.We tend to think that the reason for Newton-Raphson method having the most reliable results is the accuracy of the initial guess.\n",
        "\n",
        "Furthermore, the False-Position and Secant methods are almost identical in performing their calculation, however the main distinction is the way how the Secant method replace intial values by the new estimate.\n",
        "Because of this distinction the Secant has the higher chance of getting a divergence, while False-Position method almost always converges.\n"
      ]
    },
    {
      "cell_type": "code",
      "metadata": {
        "id": "HeuGfTafwuLr"
      },
      "source": [
        ""
      ],
      "execution_count": null,
      "outputs": []
    }
  ]
}