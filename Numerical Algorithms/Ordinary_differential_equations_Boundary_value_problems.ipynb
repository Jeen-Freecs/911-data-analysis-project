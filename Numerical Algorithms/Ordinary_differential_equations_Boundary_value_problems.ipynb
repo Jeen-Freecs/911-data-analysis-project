{
  "nbformat": 4,
  "nbformat_minor": 0,
  "metadata": {
    "colab": {
      "name": "Ordinary differential equations: Boundary-value problems.ipynb",
      "provenance": [],
      "collapsed_sections": [],
      "include_colab_link": true
    },
    "kernelspec": {
      "name": "python3",
      "display_name": "Python 3"
    },
    "language_info": {
      "name": "python"
    }
  },
  "cells": [
    {
      "cell_type": "markdown",
      "metadata": {
        "id": "view-in-github",
        "colab_type": "text"
      },
      "source": [
        "<a href=\"https://colab.research.google.com/github/Jeen-Freecs/DS_Pet_Projects/blob/main/Numerical%20Algorithms/Ordinary_differential_equations_Boundary_value_problems.ipynb\" target=\"_parent\"><img src=\"https://colab.research.google.com/assets/colab-badge.svg\" alt=\"Open In Colab\"/></a>"
      ]
    },
    {
      "cell_type": "markdown",
      "metadata": {
        "id": "yP8uh5rPcEDP"
      },
      "source": [
        "## Project: Ordinary differential equations: Boundary-value problems\n",
        "\n",
        "Consider ordinary differential equation (ODE):\n",
        "\n",
        "$$ \\frac{d^2\\!y}{dt^2}+4y=0$$\n",
        "with boundary conditions $y(0)=1$ and $y(\\frac{\\pi}{4})=5$."
      ]
    },
    {
      "cell_type": "markdown",
      "metadata": {
        "id": "kbn3tC1mcJBr"
      },
      "source": [
        "**Abstract**\n",
        "\n",
        "The main aim of this research is to obtain the numerical solution of the 2nd order ODE ,which is shown above, by using the Shooting and Finite-Difference methods.The problem which is given is considered to be the Boundary - Value proble. We will approximate the numerical solution of this ODE by each method and then evaluate the performance of each method.We have conducted the analytical soultion of this ODE and we will use it for obtaining the Root Mean Squarred Error (RMSE).This RMSE is then will be used for plotting the graph perforance for Each method in terms of computational efficiency.This research concludes that Shooting method has the better computational efficiency than Finite-Difference method for the giben problem."
      ]
    },
    {
      "cell_type": "markdown",
      "metadata": {
        "id": "D7W55p6xcLgD"
      },
      "source": [
        "**Introduction**\n",
        "\n",
        "We were given the 2nd order ODE with a set of additional constraints which is also identified as boundary conditions.\n",
        "\n",
        "The main idea behind the Shooting method is transformation the ODE from boundary problem to initial-value problem and then to apply methods such as Euler or Runge-Kutta for finding the numerical soluiton.In this assignment we have used the RK(45) method.However to succesfully transform to initial-value problem we need to guess the $y'(a)$ as the boundary value of a problem and then find the numerical solution, based on this guessed initial condition. Basicly, what we need is the following eqution, which should be equal to 0.$$(approx)y_b - (given)y_b = 0$$\n",
        "\n",
        "Here, we can use the root finding methods to find the appropriate initial condition that will give the numerical solution at maximum accuracy.\n",
        "So, it can be said that the whole method consist of two parts, which are root-finding method and numerical integration method.As we have used the Runge-Kutta method, we have decided to use System of equations method, where we will perceive 2nd order ODE as two 1st-order ODEs.\n",
        "\n",
        "In the case of Finite-Difference method, we calculate the numerical solution at each equidistant point by finite difference formulas.By this way we approximate the numerical solution of the whole ODE.The transformation we can see here is from differentila equatio into a system of algebraic equation.\n",
        "\n",
        "We will use the central - difference methods in order to transorm our ODE to Finitte-Difference Equation.\n",
        "\n",
        "$$y_0=1$$\n",
        "$$y_{i−1}+(−2+4h^2)y_i+y_{i+1} = 0,  for->i=1,2,...,n−1$$\n",
        "$$y_{100}=5$$\n",
        "\n",
        "This Finitte-Difference Equation can defined as the matrix of the form AY = P, where y will be our discrete numerical solution.\n",
        "\n",
        "We will write algorithm for each method to find the numerical solution as specified accuracy and also to generate the RMSE data with the runtime data to analyze the computational performance.\n"
      ]
    },
    {
      "cell_type": "markdown",
      "metadata": {
        "id": "7LJJEi9ScNub"
      },
      "source": [
        "**Methods**\n",
        "\n",
        "First of all, we have found the analytical solution for further use to find the RMSE and plotting the analytical graphs.F\n",
        "\n",
        "In the shooting method, we have used two python functions in combination.These functions are **scipy.integrate.solve_ivp** and **scipy.optimize.fsolve** for finding the numerical integration and the appropriate inital codition, respectively.The first problem that arised is the order of differential equation, so we have to transform the ODE to a system of 1st order ODEs.This was done through numpy library.\n",
        "\n",
        "In the Finite-Difference method, we have simply used numpy library for generating the data in the form of tridiagonal matrix A and right-hand side matrix P.The matrices was generated by the given formulas in the introduction.\n",
        "To find the numerical solution we have used **np.linalg.solve** function which is specialized for solving System of linear algebraic equations.\n",
        "\n",
        "At the end of each method, you can see the RMSE and stepsize at which the accuracy was achieved.Mostly in this research problem the graphs was plotted to conduct an analysis for each methods.I have used the plots for each method to see how the approximated solution alligned with the analytical one and this was done to make sure that our algorithm works.\n",
        "\n",
        "In the end we have plotted the performance graph where data for errors of each method was genereated by append method and data for runtime was generated by **%%timeit** function.\n",
        "\n",
        "\n"
      ]
    },
    {
      "cell_type": "markdown",
      "metadata": {
        "id": "yD75R3iZcQSj"
      },
      "source": [
        "**Main Body**\n"
      ]
    },
    {
      "cell_type": "code",
      "metadata": {
        "id": "0jst_JVQe6mB"
      },
      "source": [
        "#Importing libraries\n",
        "import numpy as np\n",
        "import matplotlib.pyplot as plt\n",
        "%matplotlib inline\n",
        "import math as math\n",
        "plt.style.use('ggplot')"
      ],
      "execution_count": null,
      "outputs": []
    },
    {
      "cell_type": "markdown",
      "metadata": {
        "id": "5mVnrqHWcf-9"
      },
      "source": [
        "**1)Provide an analytic solution to this ODE.**"
      ]
    },
    {
      "cell_type": "markdown",
      "metadata": {
        "id": "uR4wGsQIe19M"
      },
      "source": [
        "We were required to find the analytical solution of the given ODE:\n",
        "\n",
        "$$y(t) = cos(2t)+5sin(2t)$$\n",
        "\n",
        "The data point for the analytical solution was generated through list comprehension."
      ]
    },
    {
      "cell_type": "code",
      "metadata": {
        "colab": {
          "base_uri": "https://localhost:8080/",
          "height": 265
        },
        "id": "FtYn3eJnceYF",
        "outputId": "ccd081c3-5a30-448e-bc17-6194fdf9be85"
      },
      "source": [
        "t_exact_data = np.linspace(0,math.pi/4 , 100)\n",
        "y_exact_data = [math.cos(2*i) + 5*math.sin(2*i) for i in t_exact_data]\n",
        "plt.plot(t_exact_data, y_exact_data, '-')\n",
        "plt.show()"
      ],
      "execution_count": null,
      "outputs": [
        {
          "output_type": "display_data",
          "data": {
            "image/png": "[encoded data removed]",
            "text/plain": [
              "<Figure size 432x288 with 1 Axes>"
            ]
          },
          "metadata": {
            "tags": []
          }
        }
      ]
    },
    {
      "cell_type": "markdown",
      "metadata": {
        "id": "B5_KPNzDq8Jt"
      },
      "source": [
        "**2) Write your Python code to find the solution of this ODE in the interval from $t=0$ to $t=\\frac{\\pi}{4}$ with $0.01\\%$ accuracy using the shooting method.**"
      ]
    },
    {
      "cell_type": "markdown",
      "metadata": {
        "id": "F5Yy30SrEAE7"
      },
      "source": [
        "As it is the 2nd order ordinary differential equation(ODE) we will use the system of equations method and will separate the 2nd-order ODE to  two 1st-order ODEs:\n",
        "\n",
        "$$ \\frac{d^2\\!y}{dt^2}+4y=0$$\n",
        "$$ \\frac{d^2\\!y}{dt^2}= -4y$$\n",
        "$$1) \\frac{dy}{dt} = z$$\n",
        "$$2) \\frac{dz}{dt} = -4y$$\n",
        "$$S(t) = \\begin{bmatrix}\n",
        "y(t) \\\\\n",
        "z(t)\n",
        "\\end{bmatrix}$$\n",
        "$$\\frac{dS(t)}{dt} = \\begin{bmatrix}\n",
        "0 & 1 \\\\\n",
        "0 & -4y/z\n",
        "\\end{bmatrix}$$\n",
        "\n",
        "**In the code:**\n",
        "s -> System of ODEs and y(t) -> s[0], while z(t) -> s[1].\n",
        "\n",
        "*   s -> System of ODEs\n",
        "*   y(t) -> s[0]\n",
        "*   z(t) -> s[1]\n"
      ]
    },
    {
      "cell_type": "code",
      "metadata": {
        "id": "Oy2GBSC1BE7U"
      },
      "source": [
        "#importing necessary libraries and functions for the Shooting method\n",
        "from scipy.integrate import solve_ivp\n",
        "from scipy.optimize import fsolve"
      ],
      "execution_count": null,
      "outputs": []
    },
    {
      "cell_type": "code",
      "metadata": {
        "id": "NYMfhqLLMA0Y"
      },
      "source": [
        "a = 0\n",
        "b = math.pi/4\n",
        "func = lambda t, s: np.dot(np.array([[0,1],[0,-4*s[0]/s[1]]]),s)#system of ODES\n",
        "y0 = 1 #initial condition for y(0) = 1"
      ],
      "execution_count": null,
      "outputs": []
    },
    {
      "cell_type": "code",
      "metadata": {
        "colab": {
          "base_uri": "https://localhost:8080/",
          "height": 387
        },
        "id": "S-UnZfgvfxaX",
        "outputId": "cb6cef39-0694-4fef-e94f-b61d7e560408"
      },
      "source": [
        "#%%timeit -n 1 was used for generating the time data\n",
        "\n",
        "N = 100\n",
        "t_data = np.linspace(a,b,N)\n",
        "h = (b-a)/N\n",
        "\n",
        "y_true = [math.cos(2*i) + 5*math.sin(2*i) for i in t_data]\n",
        "\n",
        "def objective(y_b):\n",
        "    sol = solve_ivp(func, [a, b], [y0, y_b], t_eval = t_data)\n",
        "    y = sol.y[0]\n",
        "    return y[-1] - 5 #it will return the function which should be equal to zero,((approx y_b) - (gained) y_b = 0)\n",
        "\n",
        "y_b = fsolve(objective, 1)\n",
        "# \"1\" here is considered to be the intial guess\n",
        "# \"objective\" will return the function t\n",
        "\n",
        "\n",
        "print(f\"The approsimated value of y_b is equal to {y_b}\")\n",
        "sol = solve_ivp(func, [a, b], [y0, y_b],rtol = 0.0001, t_eval = t_data)\n",
        "\n",
        "MSE = np.square(np.subtract(sol.y[0],y_true)).mean() \n",
        "RMSE = math.sqrt(MSE)\n",
        "\n",
        "#SH_errors.append(RMSE) was used for generating th error data\n",
        "\n",
        "print(f\"Root Mean Square Error: {RMSE}\")\n",
        "print(f\"The stepsize (Δt) that yields the required accuracy:{h}\")\n",
        "\n",
        "plt.plot(sol.t, sol.y[0])\n",
        "plt.plot(t_data, y_true, '-')\n",
        "plt.xlabel('t')\n",
        "plt.ylabel('y')\n",
        "plt.show()"
      ],
      "execution_count": null,
      "outputs": [
        {
          "output_type": "stream",
          "text": [
            "The approsimated value of y_b is equal to [10.00055349]\n",
            "Root Mean Square Error: 0.0002127996979498746\n",
            "The stepsize (Δt) that yields the required accuracy:0.007853981633974483\n"
          ],
          "name": "stdout"
        },
        {
          "output_type": "stream",
          "text": [
            "/usr/local/lib/python3.7/dist-packages/numpy/core/_asarray.py:83: VisibleDeprecationWarning: Creating an ndarray from ragged nested sequences (which is a list-or-tuple of lists-or-tuples-or ndarrays with different lengths or shapes) is deprecated. If you meant to do this, you must specify 'dtype=object' when creating the ndarray\n",
            "  return array(a, dtype, copy=False, order=order)\n"
          ],
          "name": "stderr"
        },
        {
          "output_type": "display_data",
          "data": {
            "image/png": "[encoded data removed]",
            "text/plain": [
              "<Figure size 432x288 with 1 Axes>"
            ]
          },
          "metadata": {
            "tags": []
          }
        }
      ]
    },
    {
      "cell_type": "markdown",
      "metadata": {
        "id": "fXqoxZs-MRSL"
      },
      "source": [
        "**3)Write your Python code to find the solution of this ODE in the interval from $t=0$ to $t=\\frac{\\pi}{4}$ with $0.01\\%$ accuracy using the finite difference method.**"
      ]
    },
    {
      "cell_type": "markdown",
      "metadata": {
        "id": "wH6hb-lTGA7_"
      },
      "source": [
        "We will use the central - difference methods in order to transorm our ODE to Finitte-Difference Equation.\n",
        "\n",
        "$$y_0=1$$\n",
        "$$y_{i−1}+(−2+4h^2)y_i+y_{i+1} = 0,  for->i=1,2,...,n−1$$\n",
        "$$y_{100}=5$$\n",
        "\n",
        "These formulas were applied to create the matrices and find the numerical solution"
      ]
    },
    {
      "cell_type": "code",
      "metadata": {
        "colab": {
          "base_uri": "https://localhost:8080/",
          "height": 316
        },
        "id": "9--fOnrpG2y6",
        "outputId": "30382688-763b-468b-e129-74c457e998c7"
      },
      "source": [
        "#%%timeit -n 1\n",
        "n = 99 #for finite method\n",
        "h = (b-a) / n\n",
        "\n",
        "N = 100 #for exact solutiion\n",
        "t_data = np.linspace(a,b,N)\n",
        "y_true = [math.cos(2*i) + 5*math.sin(2*i) for i in t_data]\n",
        "\n",
        "#A matrix\n",
        "A = np.zeros((n+1, n+1))\n",
        "A[0, 0] = 1\n",
        "A[n, n] = 1\n",
        "for i in range(1, n):\n",
        "  A[i, i-1] = 1      \n",
        "  A[i, i] = -2+4*h**2\n",
        "  A[i, i+1] = 1\n",
        "\n",
        "#P matrix\n",
        "p = np.zeros(n+1)\n",
        "p[0] = 1\n",
        "p[1:-1] = 0\n",
        "p[-1] = 5\n",
        "\n",
        "\n",
        "# solve the linear equations\n",
        "y = np.linalg.solve(A, p)\n",
        "\n",
        "t = np.linspace(a, b, N)\n",
        "\n",
        "MSE = np.square(np.subtract(y,y_true)).mean() \n",
        "RMSE = math.sqrt(MSE)\n",
        "\n",
        "#FD_errors.append(RMSE)\n",
        "\n",
        "print(f\"Root Mean Square Error: {RMSE}\")\n",
        "print(f\"The stepsize (Δt) that yields the required accuracy:{h}\")\n",
        "plt.plot(t, y)\n",
        "plt.plot(t_data, y_true, '-')\n",
        "plt.xlabel('t')\n",
        "plt.ylabel('y')\n",
        "plt.show()"
      ],
      "execution_count": null,
      "outputs": [
        {
          "output_type": "stream",
          "text": [
            "Root Mean Square Error: 2.5101127749118378e-05\n",
            "The stepsize (Δt) that yields the required accuracy:0.007933314781792407\n"
          ],
          "name": "stdout"
        },
        {
          "output_type": "display_data",
          "data": {
            "image/png": "[encoded data removed]",
            "text/plain": [
              "<Figure size 432x288 with 1 Axes>"
            ]
          },
          "metadata": {
            "tags": []
          }
        }
      ]
    },
    {
      "cell_type": "markdown",
      "metadata": {
        "id": "xEq0zPqqJKek"
      },
      "source": [
        "**4)Compare your numerical solutions with the analytical solution (visualize all the solutions, including the exact analytical solution, in one plot).**\n"
      ]
    },
    {
      "cell_type": "markdown",
      "metadata": {
        "id": "PEF2ulYwGQBd"
      },
      "source": [
        "Both methods allign almost perfecty with the exact solution."
      ]
    },
    {
      "cell_type": "code",
      "metadata": {
        "colab": {
          "base_uri": "https://localhost:8080/",
          "height": 282
        },
        "id": "7G4NUecDI69w",
        "outputId": "fe5bc478-59b0-4a4e-a761-3c9347328119"
      },
      "source": [
        "plt.plot(t, y)\n",
        "plt.plot(sol.t, sol.y[0])\n",
        "plt.plot(t_exact_data, y_exact_data, '-')\n",
        "plt.xlabel('t')\n",
        "plt.ylabel('y')\n",
        "plt.legend(['Shooting','Finite-difference', 'Exact'],title = 'Solutions', loc='best')\n",
        "plt.show()"
      ],
      "execution_count": null,
      "outputs": [
        {
          "output_type": "display_data",
          "data": {
            "image/png": "[encoded data removed]",
            "text/plain": [
              "<Figure size 432x288 with 1 Axes>"
            ]
          },
          "metadata": {
            "tags": []
          }
        }
      ]
    },
    {
      "cell_type": "markdown",
      "metadata": {
        "id": "hivYSrNHRglz"
      },
      "source": [
        "**5)Which method is a better option for solving this ODE considering their computational cost and precision?**\n",
        "\n",
        "We have genereated the RMSE errors data and runtime data for each method.Each method generated the necessary data for n(#data points) = 5, 10, 15, 20, 25.\n",
        "\n",
        "*Time is in seconds.\n"
      ]
    },
    {
      "cell_type": "code",
      "metadata": {
        "id": "MrdYAeJbVw-z"
      },
      "source": [
        "SH_time = [0.191, 0.169, 0.173, 0.170, 0.163]\n",
        "SH_errors = [0.00038499, 0.00039936, 0.00040648, 0.00041005, 0.0004122 ]"
      ],
      "execution_count": null,
      "outputs": []
    },
    {
      "cell_type": "code",
      "metadata": {
        "id": "RQtCvHXWRdMi"
      },
      "source": [
        "FD_time = [0.184, 0.160, 0.175, 0.201, 0.203]\n",
        "FD_errors = [0.01415859, 0.00290993, 0.00122115, 0.00066828, 0.00042086]"
      ],
      "execution_count": null,
      "outputs": []
    },
    {
      "cell_type": "code",
      "metadata": {
        "colab": {
          "base_uri": "https://localhost:8080/",
          "height": 500
        },
        "id": "MY_oNcfTUVoq",
        "outputId": "d6ffa1d4-e638-4ada-dc13-57565478aa41"
      },
      "source": [
        "plt.figure(figsize = (12,8))\n",
        "plt.plot(SH_time, SH_errors)\n",
        "plt.plot(FD_time,FD_errors)\n",
        "\n",
        "plt.legend(['Shooting Method', 'Finite-Difference Method'], loc='best')\n",
        "plt.xlabel('RunTime in seconds')\n",
        "plt.ylabel('RMSE')\n",
        "plt.show()"
      ],
      "execution_count": null,
      "outputs": [
        {
          "output_type": "display_data",
          "data": {
            "image/png": "[encoded data removed]",
            "text/plain": [
              "<Figure size 864x576 with 1 Axes>"
            ]
          },
          "metadata": {
            "tags": []
          }
        }
      ]
    },
    {
      "cell_type": "markdown",
      "metadata": {
        "id": "gfwh2x53bYO2"
      },
      "source": [
        "**Results**"
      ]
    },
    {
      "cell_type": "markdown",
      "metadata": {
        "id": "oCFvTeRvZQTm"
      },
      "source": [
        "In the graph above we can see two methods' behaviour in terms of RMSE and Runtime in seconds.It can be said that Finite-difference method has a linear correlation without an outlier (0.184s.) and the accuracy increases as runtime increases.**However the Shooting Method has done more efficient computations in terms of precision and computational cost**.In can be clearlys seen that there is significant difference between RMSE at the same points at Runtime axis.Only at the end two methods has almost the same precison, but there is difference between runtime, where Shooting method has more efficient result."
      ]
    },
    {
      "cell_type": "markdown",
      "metadata": {
        "id": "SvHPEeqrGkKH"
      },
      "source": [
        "**Conclusion**\n",
        "\n",
        "This research has given the performance results of each method at estimating the numerucal solution of the give ODE.We analyzed each method, and concluded that Shooting method is the efficient method in terms of computational cost and time complexity. This research is important for maximizing the efficiency in conducting the computational processes in any scientific field. Integrating the most productive method in terms of efficient memory usage and truncation error is the one of the main part of conducting data related research and should be done thoroughly.This research can be used by others to investigate the ODE boundary-value problems."
      ]
    }
  ]
}