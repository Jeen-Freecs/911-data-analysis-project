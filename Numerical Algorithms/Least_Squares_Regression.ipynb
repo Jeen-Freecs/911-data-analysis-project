{
  "nbformat": 4,
  "nbformat_minor": 0,
  "metadata": {
    "colab": {
      "name": "Least-Squares Regression.ipynb",
      "provenance": [],
      "include_colab_link": true
    },
    "kernelspec": {
      "name": "python3",
      "display_name": "Python 3"
    }
  },
  "cells": [
    {
      "cell_type": "markdown",
      "metadata": {
        "id": "view-in-github",
        "colab_type": "text"
      },
      "source": [
        "<a href=\"https://colab.research.google.com/github/Jeen-Freecs/DS_Pet_Projects/blob/main/Numerical%20Algorithms/Least_Squares_Regression.ipynb\" target=\"_parent\"><img src=\"https://colab.research.google.com/assets/colab-badge.svg\" alt=\"Open In Colab\"/></a>"
      ]
    },
    {
      "cell_type": "markdown",
      "metadata": {
        "id": "Fb-D9bqjBBw5"
      },
      "source": [
        "Project: Least-Squares Regression"
      ]
    },
    {
      "cell_type": "markdown",
      "metadata": {
        "id": "Nz-xYBzo_dqv"
      },
      "source": [
        "**Abstract**\n",
        "\n",
        "The main aim of this assignment is the appliance least-squares regression methods for the analysis of the data and choose the best-suited one. The problem we studied was about laboratory practice with measurements of the voltage with a fixed time step. Design behind of this study is mainly focused on writing algorithms for each least-squares regression method, plotting the graph of these algorithms and conduct a comparative analysis. During the analysis it was found that exponential equation and second order polynomial have a better performance than straight line method in fitting the experimental data.\n"
      ]
    },
    {
      "cell_type": "markdown",
      "metadata": {
        "id": "l2eA8qJrC2WH"
      },
      "source": [
        "**Introduction**\n",
        "\n",
        "It can be said that least-squares regression is mostly about deriving an approximating function that corresponds with the general trend of the given data.In this assignment we will analyze three methods of least-squares approximations which will be fitting mathematical expressions such as:\n",
        "\n",
        "\n",
        "*   Straight line $f(x) = a_{0} + a_{1}x$.\n",
        "*   Exponential equation $f(x) = a_{0} e^{a_{1}x}$.\n",
        "*   Second order polynomial $f(x) = a_{0} + a_{1}x+ a_{2} x^2$.\n",
        "\n",
        "It can be assumed that for finding the best-suited method for the problem of the assignment we will use Quantification of Error of Linear Regression.This process will help us to determine the best-suited method by calutating the correlation coefficient.For a perfect fit the correlation coefficient should be equal to 1 or to be close to 1. However, beforehand we will plot the visual represenation of each method for a check of linear relation between x and y."
      ]
    },
    {
      "cell_type": "markdown",
      "metadata": {
        "id": "9xErqPhUM4NP"
      },
      "source": [
        "**Methods**\n",
        "\n",
        "\n",
        "First of all I wrote the special algorithm for each method that will calculate all the necessary quantities such as:\n",
        "\n",
        "*   $$\\sum{x_i} $$\n",
        "*   $$\\sum{y_i} $$\n",
        "*   $$\\sum{(x_i)^2} $$\n",
        "*   $$\\sum{(y_i*x_i)} $$\n",
        "\n",
        "\n",
        "and etc. It should be noted that for each method there is unique set of quantites which should be calculated. Mostly, I used simple mathematical expressions for calculating the needed values. However for the exponential case, I used \"np.log\" function of numpy library for transforming the exponential function to linear one by taking the whole expression into natural logarithm.In the second order polynomial, I used \"scipy.linalg\" library for importing the \"solve\" function for finding the matrix of coefficient of an approximated form of the second order polynomial.I used this technique, as it will be complicated and time-consuming to calculate the augmented matrix by writing the special - case algorithm like Gaussian elimination. \n",
        "\n",
        "All these calculations is needed for finding the coefficients for linear least-squares regression fitting the mathematical expressions which were mentioned before. After finding the approximated form of the particular function,I started to plot the graph for each method, where the least-squares regression was visualized.Analyzing these plots, I already had an assumption whether this linear least-squares regression is the best-suited one or not. I analyze it by looking at the distances between the true values of **y** and predicted ones.As the concluding step, I calculated the correlation coefficients of each method by applying simple mathematical operators and for loops.Each method has the almost same way of calculating the necessaty values for computing the correlation coefficients.\n",
        "\n",
        "\n",
        "\n"
      ]
    },
    {
      "cell_type": "markdown",
      "metadata": {
        "id": "W2qQS_5od7C-"
      },
      "source": [
        "**Main Body**"
      ]
    },
    {
      "cell_type": "code",
      "metadata": {
        "id": "naziM9-yB2WY"
      },
      "source": [
        "#importing libraries\n",
        "import numpy as np\n",
        "import matplotlib.pyplot as plt\n",
        "%matplotlib inline\n",
        "import seaborn as sns\n",
        "import math as math"
      ],
      "execution_count": null,
      "outputs": []
    },
    {
      "cell_type": "code",
      "metadata": {
        "id": "vqVO2h45A-Bv"
      },
      "source": [
        "import pandas as pd\n",
        "path = 'https://drive.google.com/uc?export=download&id=1RBXwhNt6BMpkiaS3GhsTFcHuSVBvqfnG'\n",
        "data = pd.read_csv(path)\n"
      ],
      "execution_count": null,
      "outputs": []
    },
    {
      "cell_type": "markdown",
      "metadata": {
        "id": "1dn38vFqGDUA"
      },
      "source": [
        "\n",
        "**Task 1**\n",
        "\n",
        " Write your Python code to perform a linear least-squares regression fitting a straight line $f(x) = a_{0} + a_{1}x$."
      ]
    },
    {
      "cell_type": "code",
      "metadata": {
        "id": "-qgaQkv1C79q"
      },
      "source": [
        "#calculation of all necessary quantities for finding the coef.\n",
        "n = 50\n",
        "sum_x = data['Time'].sum()\n",
        "sum_y = data['Voltage'].sum()\n",
        "time = np.array(data['Time'])\n",
        "volt = np.array(data['Voltage'])\n",
        "sum_xy = 0\n",
        "sum_xx = 0\n",
        "x_mean = sum_x/n\n",
        "y_mean = sum_y/n\n",
        "for i in range(n):\n",
        "  temp_1 = time[i]*volt[i]\n",
        "  sum_xy += temp_1\n",
        "  temp_2 = (time[i])**2\n",
        "  sum_xx += temp_2 "
      ],
      "execution_count": null,
      "outputs": []
    },
    {
      "cell_type": "markdown",
      "metadata": {
        "id": "L3LKlfOPXuLD"
      },
      "source": [
        "Calculation of coefficients for linear least-squares regression fitting a straight line"
      ]
    },
    {
      "cell_type": "code",
      "metadata": {
        "colab": {
          "base_uri": "https://localhost:8080/"
        },
        "id": "NSMC8D1mJYA_",
        "outputId": "4b775d78-bf60-4f28-a101-6a3f40202563"
      },
      "source": [
        "a_1 = (n*sum_xy-sum_x*sum_y)/(n*sum_xx-(sum_x)**2)\n",
        "a_0 = y_mean-a_1*x_mean\n",
        "print(a_0,a_1)"
      ],
      "execution_count": null,
      "outputs": [
        {
          "output_type": "stream",
          "text": [
            "7.670451687058824 -7.527549384283316\n"
          ],
          "name": "stdout"
        }
      ]
    },
    {
      "cell_type": "markdown",
      "metadata": {
        "id": "2XHL4F4kVkP7"
      },
      "source": [
        "Straight line function \n",
        "\n",
        " $f(x) = 7.670451687058824 -7.527549384283316x$."
      ]
    },
    {
      "cell_type": "markdown",
      "metadata": {
        "id": "R0nEJ8_kQD7Y"
      },
      "source": [
        "**Task 2**\n",
        "\n",
        "Write your Python code to perform a linear least-squares regression fitting an exponential equation $f(x) = a_{0} e^{a_{1}x}$."
      ]
    },
    {
      "cell_type": "code",
      "metadata": {
        "colab": {
          "base_uri": "https://localhost:8080/"
        },
        "id": "9fJ7oO-9Hwhl",
        "outputId": "42758a2e-e831-40cd-fb06-7751662960b3"
      },
      "source": [
        "lny = np.log(volt)\n",
        "sum_x = data['Time'].sum()\n",
        "sum_lny = lny.sum()\n",
        "sum_x_lny = 0\n",
        "sum_xx = 0\n",
        "x_mean = sum_x/n\n",
        "lny_mean = sum_lny/n\n",
        "for i in range(n):\n",
        "  temp_1 = time[i]*lny[i]\n",
        "  sum_x_lny += temp_1\n",
        "  temp_2 = (time[i])**2\n",
        "  sum_xx += temp_2 \n",
        "print(sum_xx,sum_x_lny)"
      ],
      "execution_count": null,
      "outputs": [
        {
          "output_type": "stream",
          "text": [
            "16.169999999999998 21.258365065310603\n"
          ],
          "name": "stdout"
        }
      ]
    },
    {
      "cell_type": "markdown",
      "metadata": {
        "id": "OevJIP-eXqzk"
      },
      "source": [
        "Calculation of coefficients"
      ]
    },
    {
      "cell_type": "code",
      "metadata": {
        "colab": {
          "base_uri": "https://localhost:8080/"
        },
        "id": "UVlQ4dt_ZqmV",
        "outputId": "09f76f6e-a95b-4490-f509-d3fd4ed682b2"
      },
      "source": [
        "a_1_2 = (n*sum_x_lny-sum_x*sum_lny)/(n*sum_xx-(sum_x)**2)\n",
        "a_0_2 = lny_mean-a_1_2*x_mean\n",
        "print(a_0_2,a_1_2)"
      ],
      "execution_count": null,
      "outputs": [
        {
          "output_type": "stream",
          "text": [
            "2.2075110258064234 -2.0300343269602212\n"
          ],
          "name": "stdout"
        }
      ]
    },
    {
      "cell_type": "markdown",
      "metadata": {
        "id": "InxTvnojXl-F"
      },
      "source": [
        "Calculation of alpha and beta for finding the original form of exponential equation"
      ]
    },
    {
      "cell_type": "code",
      "metadata": {
        "colab": {
          "base_uri": "https://localhost:8080/"
        },
        "id": "kHhQdd7SWeGh",
        "outputId": "2f7bc486-1726-4d3b-d21a-a6aeb10dcf1c"
      },
      "source": [
        "alpha  = math.exp(a_0_2)\n",
        "beta = a_1_2\n",
        "print(alpha)\n",
        "print(beta)"
      ],
      "execution_count": null,
      "outputs": [
        {
          "output_type": "stream",
          "text": [
            "9.093055822668004\n",
            "-2.0300343269602212\n"
          ],
          "name": "stdout"
        }
      ]
    },
    {
      "cell_type": "markdown",
      "metadata": {
        "id": "yRtya8mDWBYp"
      },
      "source": [
        "Exponential equation \n",
        "\n",
        "$f(x) = 9.093055822668004 e^{-2.0300343269602212\n",
        "x}$."
      ]
    },
    {
      "cell_type": "markdown",
      "metadata": {
        "id": "9edNDBcSd--1"
      },
      "source": [
        "**Task 3**\n",
        "\n",
        "Write your Python code to perform a linear least-squares regression fitting a second order polynomial $f(x) = a_{0} + a_{1}x+ a_{2} x^2$."
      ]
    },
    {
      "cell_type": "code",
      "metadata": {
        "id": "wXc0ro6YY66E"
      },
      "source": [
        "sum_x = data['Time'].sum()\n",
        "sum_y = data['Voltage'].sum()\n",
        "time = np.array(data['Time'])\n",
        "volt = np.array(data['Voltage'])\n",
        "\n",
        "sum_xy = 0\n",
        "sum_xx = 0\n",
        "sum_xxx = 0\n",
        "sum_xxxx = 0\n",
        "sum_xxy = 0\n",
        "\n",
        "x_mean = sum_x/n\n",
        "y_mean = sum_y/n\n",
        "for i in range(n):\n",
        "  temp_1 = time[i]*volt[i]\n",
        "  sum_xy += temp_1\n",
        "  temp_2 = (time[i])**2\n",
        "  sum_xx += temp_2 \n",
        "  temp_3 = (time[i])**3\n",
        "  sum_xxx += temp_3\n",
        "  temp_4 = (time[i])**4\n",
        "  sum_xxxx += temp_4\n",
        "  temp_5 = ((time[i])**2)*volt[i]\n",
        "  sum_xxy += temp_5"
      ],
      "execution_count": null,
      "outputs": []
    },
    {
      "cell_type": "markdown",
      "metadata": {
        "id": "dsNTPB3dkjHr"
      },
      "source": [
        "Calculation of coefficients by finding the solution for an augmented matrix"
      ]
    },
    {
      "cell_type": "code",
      "metadata": {
        "colab": {
          "base_uri": "https://localhost:8080/"
        },
        "id": "Vo5U7GkQg0iN",
        "outputId": "436b81dd-b13f-4f0b-ac0b-25fdd149794a"
      },
      "source": [
        "from scipy.linalg import solve\n",
        "A = [[n,sum_x,sum_xx],[sum_x,sum_xx,sum_xxx],[sum_xx,sum_xxx,sum_xxxx]]\n",
        "b = [sum_y,sum_xy,sum_xxy]\n",
        "a = solve(A, b)\n",
        "print(a)"
      ],
      "execution_count": null,
      "outputs": [
        {
          "output_type": "stream",
          "text": [
            "[  8.85774677 -14.94814368   7.572035  ]\n"
          ],
          "name": "stdout"
        }
      ]
    },
    {
      "cell_type": "markdown",
      "metadata": {
        "id": "V7ahX2SiWr1-"
      },
      "source": [
        "Second order polynomial \n",
        "\n",
        "$f(x) = 8.85774677 -14.94814368x + 7.572035x^2$."
      ]
    },
    {
      "cell_type": "markdown",
      "metadata": {
        "id": "583VxlGvkn8T"
      },
      "source": [
        "**Task 4**\n",
        "\n",
        "Finding the Error estimation and Correlation coefficients of each method:\n"
      ]
    },
    {
      "cell_type": "markdown",
      "metadata": {
        "id": "luz-y86dtUjq"
      },
      "source": [
        "4.1 Straight line $f(x) = a_{0} + a_{1}x$."
      ]
    },
    {
      "cell_type": "code",
      "metadata": {
        "colab": {
          "base_uri": "https://localhost:8080/",
          "height": 299
        },
        "id": "eUjWL0-8Pf6H",
        "outputId": "2fa8a3f4-2b6f-4216-956c-547a41dc1ccd"
      },
      "source": [
        "plt.plot(time,a_0+a_1*time , color='r')\n",
        "sns.set_style(\"whitegrid\")\n",
        "sns.scatterplot(x = 'Time', y = 'Voltage',data = data)"
      ],
      "execution_count": null,
      "outputs": [
        {
          "output_type": "execute_result",
          "data": {
            "text/plain": [
              "<matplotlib.axes._subplots.AxesSubplot at 0x7fe5aaae1400>"
            ]
          },
          "metadata": {
            "tags": []
          },
          "execution_count": 15
        },
        {
          "output_type": "display_data",
          "data": {
            "image/png": "[encoded data removed]",
            "text/plain": [
              "<Figure size 432x288 with 1 Axes>"
            ]
          },
          "metadata": {
            "tags": []
          }
        }
      ]
    },
    {
      "cell_type": "code",
      "metadata": {
        "colab": {
          "base_uri": "https://localhost:8080/"
        },
        "id": "b_KNb5W5kCsQ",
        "outputId": "94093ecf-da03-48e3-b911-ec0565d2a07e"
      },
      "source": [
        "#Calculation of the standard deviation 's_y'.\n",
        "s_t = 0\n",
        "for i in range(n):\n",
        "  difference = (volt[i] - y_mean)**2\n",
        "  s_t += difference\n",
        "\n",
        "s_y = 0\n",
        "s_y = (s_t/(n-1))**0.5\n",
        "print(\"Standard deviation of y: \",s_y)\n",
        "\n",
        "#Sum of the squares of the residuals 's_r'.\n",
        "s_r = 0\n",
        "for i in range(n):\n",
        "  difference = (volt[i] - a_0 - a_1*time[i])**2\n",
        "  s_r += difference\n",
        "\n",
        "#Calculation of standard error of the estimate 's_yx'.\n",
        "s_yx = 0\n",
        "s_yx = (s_r/(n-2))**0.5\n",
        "print(\"Standard error of the estimate: \",s_yx)\n",
        "\n",
        "#Calculation of coefficient of determination 'r_2' and correlation coefficient 'r'\n",
        "r_2 = 0\n",
        "r = 0\n",
        "r_2 = (s_t - s_r)/(s_t)\n",
        "r = (r_2)**0.5\n",
        "print(\"Coefficient of determination: \", r_2)\n",
        "print(\"Correlation coefficient: \", r)"
      ],
      "execution_count": null,
      "outputs": [
        {
          "output_type": "stream",
          "text": [
            "Standard deviation of y:  2.287466541692321\n",
            "Standard error of the estimate:  0.6517140365591918\n",
            "Coefficient of determination:  0.9204848639724048\n",
            "Correlation coefficient:  0.9594190241872447\n"
          ],
          "name": "stdout"
        }
      ]
    },
    {
      "cell_type": "markdown",
      "metadata": {
        "id": "E2JSrk-c4H6y"
      },
      "source": [
        "Here we can see that we have plotted linear least-squares regression fitting a straight line and this gives us a linear relation between x and y.This linear relation was need for approving the further calculation of the correlation coefficient which is 0.6323279318298168."
      ]
    },
    {
      "cell_type": "markdown",
      "metadata": {
        "id": "8eAeKEVA5EMY"
      },
      "source": [
        "4.2 Exponential equation $f(x) = a_{0} e^{a_{1}x}$."
      ]
    },
    {
      "cell_type": "markdown",
      "metadata": {
        "id": "NleI-sL86dBI"
      },
      "source": [
        "The standard deviation for y remains the same. Other parameters such as \"Standard error of the estimate\" and \"Correlation coefficient\" will be calculated."
      ]
    },
    {
      "cell_type": "code",
      "metadata": {
        "colab": {
          "base_uri": "https://localhost:8080/",
          "height": 300
        },
        "id": "4NKI71zsaFDe",
        "outputId": "064b1e0a-4474-4f7c-fe6b-309fa69d488e"
      },
      "source": [
        "alpha = math.exp(a_0_2)\n",
        "beta = a_1_2\n",
        "plt.plot(time, alpha*np.exp(beta*time), color = 'r')\n",
        "sns.scatterplot(x = 'Time', y = 'Voltage',data = data)"
      ],
      "execution_count": null,
      "outputs": [
        {
          "output_type": "execute_result",
          "data": {
            "text/plain": [
              "<matplotlib.axes._subplots.AxesSubplot at 0x7fe5aaa8eef0>"
            ]
          },
          "metadata": {
            "tags": []
          },
          "execution_count": 19
        },
        {
          "output_type": "display_data",
          "data": {
            "image/png": "[encoded data removed]",
            "text/plain": [
              "<Figure size 432x288 with 1 Axes>"
            ]
          },
          "metadata": {
            "tags": []
          }
        }
      ]
    },
    {
      "cell_type": "code",
      "metadata": {
        "colab": {
          "base_uri": "https://localhost:8080/"
        },
        "id": "KmRnufWV5NIx",
        "outputId": "369bcb5d-c1c3-46ff-f1bb-71a92bb05b8a"
      },
      "source": [
        "#Sum of the squares of the residuals 's_r'.\n",
        "s_r = 0\n",
        "for i in range(n):\n",
        "  difference = (volt[i] - alpha*np.exp(beta*time[i]))**2\n",
        "  s_r += difference\n",
        "\n",
        "#Calculation of standard error of the estimate 's_yx'.\n",
        "s_yx = 0\n",
        "s_yx = (s_r/(n-2))**0.5\n",
        "print(\"Standard error of the estimate: \",s_yx)\n",
        "\n",
        "#Calculation of coefficient of determination 'r_2' and correlation coefficient 'r'\n",
        "r_2 = 0\n",
        "r = 0\n",
        "r_2 = (s_t - s_r)/(s_t)\n",
        "r = (r_2)**0.5\n",
        "print(\"Coefficient of determination: \", r_2)\n",
        "print(\"Correlation coefficient: \", r)"
      ],
      "execution_count": null,
      "outputs": [
        {
          "output_type": "stream",
          "text": [
            "Standard error of the estimate:  0.27290644069258735\n",
            "Coefficient of determination:  0.9860567752737128\n",
            "Correlation coefficient:  0.9930039150344337\n"
          ],
          "name": "stdout"
        }
      ]
    },
    {
      "cell_type": "markdown",
      "metadata": {
        "id": "FQZy-7eB9K9o"
      },
      "source": [
        "4.3 Second order polynomial $f(x) = a_{0} + a_{1}x+ a_{2} x^2$.\n",
        "\n",
        "The standard deviation for y remains the same. Other parameters such as \"Standard error of the estimate\" and \"Correlation coefficient\" will be calculated."
      ]
    },
    {
      "cell_type": "code",
      "metadata": {
        "colab": {
          "base_uri": "https://localhost:8080/",
          "height": 300
        },
        "id": "cGHW80aekozN",
        "outputId": "7e447919-f3fa-44a9-a53b-6b7bceea9898"
      },
      "source": [
        "plt.plot(time, a[0]+a[1]*time+a[2]*time**2, color = 'r')\n",
        "sns.scatterplot(x = 'Time', y = 'Voltage', data = data)"
      ],
      "execution_count": null,
      "outputs": [
        {
          "output_type": "execute_result",
          "data": {
            "text/plain": [
              "<matplotlib.axes._subplots.AxesSubplot at 0x7fe5aa9d9898>"
            ]
          },
          "metadata": {
            "tags": []
          },
          "execution_count": 21
        },
        {
          "output_type": "display_data",
          "data": {
            "image/png": "[encoded data removed]",
            "text/plain": [
              "<Figure size 432x288 with 1 Axes>"
            ]
          },
          "metadata": {
            "tags": []
          }
        }
      ]
    },
    {
      "cell_type": "code",
      "metadata": {
        "colab": {
          "base_uri": "https://localhost:8080/"
        },
        "id": "61WXyIEp9Uu4",
        "outputId": "7bb2500f-1a96-4645-c665-039dba7c5eb0"
      },
      "source": [
        "#Sum of the squares of the residuals 's_r'.\n",
        "s_r = 0\n",
        "for i in range(n):\n",
        "  difference = (volt[i] - a[0] - a[1]*time[i] - a[2]*time[i]**2)**2\n",
        "  s_r += difference\n",
        "\n",
        "#Calculation of standard error of the estimate 's_yx'.\n",
        "s_yx = 0\n",
        "s_yx = (s_r/(n-3))**0.5\n",
        "print(\"Standard error of the estimate: \",s_yx)\n",
        "\n",
        "#Calculation of coefficient of determination 'r_2' and correlation coefficient 'r'\n",
        "r_2 = 0\n",
        "r = 0\n",
        "r_2 = (s_t - s_r)/(s_t)\n",
        "r = (r_2)**0.5\n",
        "print(\"Coefficient of determination: \", r_2)\n",
        "print(\"Correlation coefficient: \", r)"
      ],
      "execution_count": null,
      "outputs": [
        {
          "output_type": "stream",
          "text": [
            "Standard error of the estimate:  0.3091633411351379\n",
            "Coefficient of determination:  0.9824786219138495\n",
            "Correlation coefficient:  0.9912005962033363\n"
          ],
          "name": "stdout"
        }
      ]
    },
    {
      "cell_type": "markdown",
      "metadata": {
        "id": "5MPd5HbjYhXG"
      },
      "source": [
        "**Task 5**\n",
        "\n",
        "By analyzing the graphical visualizatios of each method, it can be claimed that both exponential equation and second order polynomial fits better the experimental data than straight line function.Also these expressions better describes the physical process, due to the visual representation of the graphs where the residuals seem smaller than straight line function has."
      ]
    },
    {
      "cell_type": "markdown",
      "metadata": {
        "id": "06Z22muBaZgg"
      },
      "source": [
        "**Task 6**\n",
        "\n",
        "Results of the correlation coefficients of each method is represented below:\n",
        "\n",
        "\n",
        "\n",
        "*   Straight line: 0.9594190241872447\n",
        "*   Exponential equation: 0.9930039150344337\n",
        "*   Second order polynomial: 0.9912005962033363\n",
        "\n",
        "So, it can be seen that Exponential equation has the greatest correlcation coefficient which is close to 1.0. This tells us that line explains 98.6 percent\n",
        "of the variability of the data, because the coefficient of determination is 0.9860567752737128.Answering to the question of the task 6, the exponential equation method is more suitable for a given problem.\n",
        "\n"
      ]
    },
    {
      "cell_type": "markdown",
      "metadata": {
        "id": "RETHeEWE-OkP"
      },
      "source": [
        "**Task 7**"
      ]
    },
    {
      "cell_type": "markdown",
      "metadata": {
        "id": "pCIGtN4adAWG"
      },
      "source": [
        "Here, I applied the \"lmplot\" function from seaborn library to fit the experimental data."
      ]
    },
    {
      "cell_type": "code",
      "metadata": {
        "colab": {
          "base_uri": "https://localhost:8080/",
          "height": 417
        },
        "id": "kwXdt_1OCskI",
        "outputId": "68ce2de6-779d-448f-f888-a538c8a72921"
      },
      "source": [
        "plt.figure(figsize = (10,6))\n",
        "sns.set_style('whitegrid')\n",
        "sns.lmplot(x = 'Time', y = 'Voltage', data = data)"
      ],
      "execution_count": null,
      "outputs": [
        {
          "output_type": "execute_result",
          "data": {
            "text/plain": [
              "<seaborn.axisgrid.FacetGrid at 0x7fe5aa9a4cf8>"
            ]
          },
          "metadata": {
            "tags": []
          },
          "execution_count": 23
        },
        {
          "output_type": "display_data",
          "data": {
            "text/plain": [
              "<Figure size 720x432 with 0 Axes>"
            ]
          },
          "metadata": {
            "tags": []
          }
        },
        {
          "output_type": "display_data",
          "data": {
            "image/png": "[encoded data removed]",
            "text/plain": [
              "<Figure size 360x360 with 1 Axes>"
            ]
          },
          "metadata": {
            "tags": []
          }
        }
      ]
    },
    {
      "cell_type": "markdown",
      "metadata": {
        "id": "VgaxbvEvdrTb"
      },
      "source": [
        "**Conclusion**\n",
        "\n",
        "In this assignment we assessed all three methods of developing the least-squares regressions  and analyzed all the curves for finding the best-suited one, which is exponential equation.Overall the assessment of methods and making a decision which method should be used are the most important skills various fields.Linear regression is a model designed for predicting the values and if the least efficient method was chosen, the predictions will not so accurate as much as possible.Therefore, it is important to have an objective view on different methods that will help you to achieve the result, and choose the most appropriate one."
      ]
    }
  ]
}